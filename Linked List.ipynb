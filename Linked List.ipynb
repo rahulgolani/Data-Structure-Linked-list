{
 "cells": [
  {
   "cell_type": "markdown",
   "metadata": {},
   "source": [
    "# Linked List Representation"
   ]
  },
  {
   "cell_type": "code",
   "execution_count": 1,
   "metadata": {},
   "outputs": [],
   "source": [
    "class Node:\n",
    "\n",
    "    def __init__(self,data):\n",
    "        self.data=data\n",
    "        self.next=None\n",
    "\n",
    "class LinkedList:\n",
    "\n",
    "    def __init__(self):\n",
    "        self.head=None\n",
    "\n",
    "llist=LinkedList()\n",
    "llist.head=Node(1)\n",
    "second=Node(2)\n",
    "third=Node(3)\n"
   ]
  },
  {
   "cell_type": "markdown",
   "metadata": {},
   "source": [
    "# Traversal"
   ]
  },
  {
   "cell_type": "code",
   "execution_count": 2,
   "metadata": {},
   "outputs": [
    {
     "name": "stdout",
     "output_type": "stream",
     "text": [
      "1 2 3 "
     ]
    }
   ],
   "source": [
    "class Node:\n",
    "\n",
    "    def __init__(self,data):\n",
    "        self.data=data\n",
    "        self.next=None\n",
    "\n",
    "class LinkedList:\n",
    "\n",
    "    def __init__(self):\n",
    "        self.head=None\n",
    "\n",
    "    def traverse(self):\n",
    "        temp=self.head\n",
    "        while temp:\n",
    "            print(temp.data,end=' ')\n",
    "            temp=temp.next\n",
    "\n",
    "if __name__ == '__main__':\n",
    "\n",
    "    llist=LinkedList()\n",
    "    llist.head=Node(1)\n",
    "    second=Node(2)\n",
    "    third=Node(3)\n",
    "    llist.head.next=second\n",
    "    second.next=third\n",
    "    llist.traverse()\n"
   ]
  },
  {
   "cell_type": "markdown",
   "metadata": {},
   "source": [
    "# Linked List Insertion"
   ]
  },
  {
   "cell_type": "code",
   "execution_count": 3,
   "metadata": {},
   "outputs": [
    {
     "name": "stdout",
     "output_type": "stream",
     "text": [
      "Linked List is empty\n",
      "1 7 8 6 4 "
     ]
    }
   ],
   "source": [
    "class Node:\n",
    "    def __init__(self,data):\n",
    "        self.data=data\n",
    "        self.next=None\n",
    "\n",
    "class LinkedList:\n",
    "    def __init__(self):\n",
    "        self.head=None\n",
    "\n",
    "    def push(self,data):\n",
    "        temp=Node(data)\n",
    "        if self.head is None:\n",
    "            self.head=temp\n",
    "        else:\n",
    "            temp.next=self.head\n",
    "            self.head=temp\n",
    "\n",
    "    def insertAfter(self,prev,data):\n",
    "        temp=Node(data)\n",
    "        if prev is None:\n",
    "            print('No previous element found')\n",
    "            return\n",
    "        temp.next=prev.next\n",
    "        prev.next=temp\n",
    "\n",
    "    def append(self,data):\n",
    "        temp=Node(data)\n",
    "        if self.head is None:\n",
    "            self.head=temp\n",
    "        else:\n",
    "            ref=self.head\n",
    "            while ref.next:\n",
    "                ref=ref.next\n",
    "            ref.next=temp\n",
    "\n",
    "    def traverse(self):\n",
    "        if self.head is None:\n",
    "            print('Linked List is empty')\n",
    "            return\n",
    "        temp=self.head\n",
    "        while temp:\n",
    "            print(temp.data,end=\" \")\n",
    "            temp=temp.next\n",
    "\n",
    "\n",
    "if __name__ == '__main__':\n",
    "    llist=LinkedList()\n",
    "    llist.traverse()\n",
    "    llist.append(6)\n",
    "    llist.push(7)\n",
    "    llist.push(1)\n",
    "    llist.append(4)\n",
    "    llist.insertAfter(llist.head.next,8)\n",
    "    llist.traverse()\n"
   ]
  },
  {
   "cell_type": "markdown",
   "metadata": {},
   "source": [
    "# Linked List Deletion"
   ]
  },
  {
   "cell_type": "code",
   "execution_count": 4,
   "metadata": {},
   "outputs": [
    {
     "name": "stdout",
     "output_type": "stream",
     "text": [
      "Linked List empty\n",
      "\n",
      "2 3 1 7 \n",
      "Key element not found\n",
      "\n",
      "2 3 1 7 \n",
      "2 3 1 7 "
     ]
    }
   ],
   "source": [
    "class Node:\n",
    "    def __init__(self,data):\n",
    "        self.data=data\n",
    "        self.next=None\n",
    "\n",
    "class LinkedList:\n",
    "    def __init__(self):\n",
    "        self.head=None\n",
    "\n",
    "    def push(self,data):\n",
    "        temp=Node(data)\n",
    "        if self.head is None:\n",
    "            self.head=temp\n",
    "        else:\n",
    "            temp.next=self.head\n",
    "            self.head=temp\n",
    "\n",
    "    def delete(self,key):\n",
    "\n",
    "        if self.head is None:\n",
    "            print('Linked List empty')\n",
    "            return\n",
    "\n",
    "        temp=self.head\n",
    "        if temp.data==key:\n",
    "            self.head=temp.next\n",
    "            temp=None\n",
    "            return\n",
    "\n",
    "        while temp:\n",
    "            if temp.data==key:\n",
    "                break\n",
    "            prev=temp\n",
    "            temp=temp.next\n",
    "\n",
    "        if temp is None:\n",
    "            print('Key element not found')\n",
    "            return\n",
    "\n",
    "        prev.next=temp.next\n",
    "        temp=None\n",
    "\n",
    "    def traverse(self):\n",
    "        if self.head is None:\n",
    "            print('Linked List is empty')\n",
    "            return\n",
    "        else:\n",
    "            temp=self.head\n",
    "            while temp:\n",
    "                print(temp.data,end=\" \")\n",
    "                temp=temp.next\n",
    "\n",
    "if __name__ == '__main__':\n",
    "    llist=LinkedList()\n",
    "    llist.delete(6)\n",
    "    llist.push(7)\n",
    "    llist.push(1)\n",
    "    llist.push(3)\n",
    "    llist.push(2)\n",
    "    print()\n",
    "    llist.traverse()\n",
    "    print()\n",
    "\n",
    "    llist.delete(6)\n",
    "    print()\n",
    "    llist.traverse()\n",
    "    print()\n",
    "    llist.traverse()\n"
   ]
  },
  {
   "cell_type": "markdown",
   "metadata": {},
   "source": [
    "# Delete a Linked List node at a given position"
   ]
  },
  {
   "cell_type": "code",
   "execution_count": 5,
   "metadata": {},
   "outputs": [
    {
     "name": "stdout",
     "output_type": "stream",
     "text": [
      "Linked List is empty\n",
      "6 5 4 3 2 1 \n",
      "No Node at this position found\n",
      "6 5 4 3 2 1 \n"
     ]
    }
   ],
   "source": [
    "class Node:\n",
    "    def __init__(self,data):\n",
    "        self.data=data\n",
    "        self.next=None\n",
    "\n",
    "class LinkedList:\n",
    "    def __init__(self):\n",
    "        self.head=None\n",
    "\n",
    "    def push(self,data):\n",
    "        temp=Node(data)\n",
    "        temp.next=self.head\n",
    "        self.head=temp\n",
    "\n",
    "    def delete(self,pos):\n",
    "\n",
    "        if self.head is None:\n",
    "            print('Linked List is empty')\n",
    "            return\n",
    "        temp=self.head\n",
    "        if pos==0:\n",
    "            self.head=temp.next\n",
    "            temp=None\n",
    "            return\n",
    "        count=0\n",
    "        while temp:\n",
    "            if count==pos:\n",
    "                break\n",
    "            prev=temp\n",
    "            temp=temp.next\n",
    "            count+=1\n",
    "\n",
    "        if temp is None:\n",
    "            print('No Node at this position found')\n",
    "            return\n",
    "\n",
    "        prev.next=temp.next\n",
    "        temp = None\n",
    "\n",
    "    def traverse(self):\n",
    "        if self.head is None:\n",
    "            print('Linked List is empty')\n",
    "            return\n",
    "        temp=self.head\n",
    "        while temp:\n",
    "            print(temp.data,end=\" \")\n",
    "            temp=temp.next\n",
    "        print()\n",
    "\n",
    "if __name__ == '__main__':\n",
    "    llist=LinkedList()\n",
    "    llist.traverse()\n",
    "    llist.push(1)\n",
    "    llist.push(2)\n",
    "    llist.push(3)\n",
    "    llist.push(4)\n",
    "    llist.push(5)\n",
    "    llist.push(6)\n",
    "\n",
    "\n",
    "    llist.traverse()\n",
    "    llist.delete(9)\n",
    "    llist.traverse()\n"
   ]
  },
  {
   "cell_type": "code",
   "execution_count": null,
   "metadata": {},
   "outputs": [],
   "source": []
  }
 ],
 "metadata": {
  "kernelspec": {
   "display_name": "Python 3",
   "language": "python",
   "name": "python3"
  },
  "language_info": {
   "codemirror_mode": {
    "name": "ipython",
    "version": 3
   },
   "file_extension": ".py",
   "mimetype": "text/x-python",
   "name": "python",
   "nbconvert_exporter": "python",
   "pygments_lexer": "ipython3",
   "version": "3.7.6"
  }
 },
 "nbformat": 4,
 "nbformat_minor": 4
}
