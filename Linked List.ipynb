{
 "cells": [
  {
   "cell_type": "markdown",
   "metadata": {},
   "source": [
    "# Why Linked List?"
   ]
  },
  {
   "cell_type": "markdown",
   "metadata": {},
   "source": [
    "Arrays can be used to store linear data of similar types, but arrays have the following limitations.\n",
    "\n",
    "1) The size of the arrays is fixed: So we must know the upper limit on the number of elements in advance. Also, generally, the allocated memory is equal to the upper limit irrespective of the usage.\n",
    "\n",
    "2) Inserting a new element in an array of elements is expensive because the room has to be created for the new elements and to create room existing elements have to be shifted."
   ]
  },
  {
   "cell_type": "markdown",
   "metadata": {},
   "source": [
    "<strong>Advantages over arrays</strong>\n",
    "\n",
    "1) Dynamic size\n",
    "\n",
    "2) Ease of insertion/deletion"
   ]
  },
  {
   "cell_type": "markdown",
   "metadata": {},
   "source": [
    "<strong>Drawbacks</strong>\n",
    "\n",
    "1) Random access is not allowed. We have to access elements sequentially starting from the first node. So we cannot do binary search with linked lists efficiently with its default implementation. Read about it here.\n",
    "\n",
    "2) Extra memory space for a pointer is required with each element of the list.\n",
    "\n",
    "3) Not cache friendly. Since array elements are contiguous locations, there is locality of reference which is not there in case of linked lists."
   ]
  },
  {
   "cell_type": "markdown",
   "metadata": {},
   "source": [
    "# Linked List Representation"
   ]
  },
  {
   "cell_type": "code",
   "execution_count": 1,
   "metadata": {},
   "outputs": [],
   "source": [
    "class Node:\n",
    "\n",
    "    def __init__(self,data):\n",
    "        self.data=data\n",
    "        self.next=None\n",
    "\n",
    "class LinkedList:\n",
    "\n",
    "    def __init__(self):\n",
    "        self.head=None\n",
    "\n",
    "llist=LinkedList()\n",
    "llist.head=Node(1)\n",
    "second=Node(2)\n",
    "third=Node(3)\n"
   ]
  },
  {
   "cell_type": "markdown",
   "metadata": {},
   "source": [
    "# Traversal"
   ]
  },
  {
   "cell_type": "code",
   "execution_count": 2,
   "metadata": {},
   "outputs": [
    {
     "name": "stdout",
     "output_type": "stream",
     "text": [
      "1 2 3 "
     ]
    }
   ],
   "source": [
    "class Node:\n",
    "\n",
    "    def __init__(self,data):\n",
    "        self.data=data\n",
    "        self.next=None\n",
    "\n",
    "class LinkedList:\n",
    "\n",
    "    def __init__(self):\n",
    "        self.head=None\n",
    "\n",
    "    def traverse(self):\n",
    "        temp=self.head\n",
    "        while temp:\n",
    "            print(temp.data,end=' ')\n",
    "            temp=temp.next\n",
    "\n",
    "if __name__ == '__main__':\n",
    "\n",
    "    llist=LinkedList()\n",
    "    llist.head=Node(1)\n",
    "    second=Node(2)\n",
    "    third=Node(3)\n",
    "    llist.head.next=second\n",
    "    second.next=third\n",
    "    llist.traverse()\n"
   ]
  },
  {
   "cell_type": "markdown",
   "metadata": {},
   "source": [
    "# Linked List Insertion"
   ]
  },
  {
   "cell_type": "markdown",
   "metadata": {},
   "source": [
    "1) At the front of the linked list\n",
    "\n",
    "2) After a given node. \n",
    "\n",
    "3) At the end of the linked list."
   ]
  },
  {
   "cell_type": "code",
   "execution_count": 3,
   "metadata": {},
   "outputs": [
    {
     "name": "stdout",
     "output_type": "stream",
     "text": [
      "Linked List is empty\n",
      "1 7 8 6 4 "
     ]
    }
   ],
   "source": [
    "class Node:\n",
    "    def __init__(self,data):\n",
    "        self.data=data\n",
    "        self.next=None\n",
    "\n",
    "class LinkedList:\n",
    "    def __init__(self):\n",
    "        self.head=None\n",
    "\n",
    "    def push(self,data):\n",
    "        temp=Node(data)\n",
    "        if self.head is None:\n",
    "            self.head=temp\n",
    "        else:\n",
    "            temp.next=self.head\n",
    "            self.head=temp\n",
    "\n",
    "    def insertAfter(self,prev,data):\n",
    "        temp=Node(data)\n",
    "        if prev is None:\n",
    "            print('No previous element found')\n",
    "            return\n",
    "        temp.next=prev.next\n",
    "        prev.next=temp\n",
    "\n",
    "    def append(self,data):\n",
    "        temp=Node(data)\n",
    "        if self.head is None:\n",
    "            self.head=temp\n",
    "        else:\n",
    "            ref=self.head\n",
    "            while ref.next:\n",
    "                ref=ref.next\n",
    "            ref.next=temp\n",
    "\n",
    "    def traverse(self):\n",
    "        if self.head is None:\n",
    "            print('Linked List is empty')\n",
    "            return\n",
    "        temp=self.head\n",
    "        while temp:\n",
    "            print(temp.data,end=\" \")\n",
    "            temp=temp.next\n",
    "\n",
    "\n",
    "if __name__ == '__main__':\n",
    "    llist=LinkedList()\n",
    "    llist.traverse()\n",
    "    llist.append(6)\n",
    "    llist.push(7)\n",
    "    llist.push(1)\n",
    "    llist.append(4)\n",
    "    llist.insertAfter(llist.head.next,8)\n",
    "    llist.traverse()\n"
   ]
  },
  {
   "cell_type": "markdown",
   "metadata": {},
   "source": [
    "# Linked List Deletion"
   ]
  },
  {
   "cell_type": "code",
   "execution_count": 4,
   "metadata": {},
   "outputs": [
    {
     "name": "stdout",
     "output_type": "stream",
     "text": [
      "Linked List empty\n",
      "\n",
      "2 3 1 7 \n",
      "Key element not found\n",
      "\n",
      "2 3 1 7 \n",
      "2 3 1 7 "
     ]
    }
   ],
   "source": [
    "class Node:\n",
    "    def __init__(self,data):\n",
    "        self.data=data\n",
    "        self.next=None\n",
    "\n",
    "class LinkedList:\n",
    "    def __init__(self):\n",
    "        self.head=None\n",
    "\n",
    "    def push(self,data):\n",
    "        temp=Node(data)\n",
    "        if self.head is None:\n",
    "            self.head=temp\n",
    "        else:\n",
    "            temp.next=self.head\n",
    "            self.head=temp\n",
    "\n",
    "    def delete(self,key):\n",
    "\n",
    "        if self.head is None:\n",
    "            print('Linked List empty')\n",
    "            return\n",
    "\n",
    "        temp=self.head\n",
    "        if temp.data==key:\n",
    "            self.head=temp.next\n",
    "            temp=None\n",
    "            return\n",
    "\n",
    "        while temp:\n",
    "            if temp.data==key:\n",
    "                break\n",
    "            prev=temp\n",
    "            temp=temp.next\n",
    "\n",
    "        if temp is None:\n",
    "            print('Key element not found')\n",
    "            return\n",
    "\n",
    "        prev.next=temp.next\n",
    "        temp=None\n",
    "\n",
    "    def traverse(self):\n",
    "        if self.head is None:\n",
    "            print('Linked List is empty')\n",
    "            return\n",
    "        else:\n",
    "            temp=self.head\n",
    "            while temp:\n",
    "                print(temp.data,end=\" \")\n",
    "                temp=temp.next\n",
    "\n",
    "if __name__ == '__main__':\n",
    "    llist=LinkedList()\n",
    "    llist.delete(6)\n",
    "    llist.push(7)\n",
    "    llist.push(1)\n",
    "    llist.push(3)\n",
    "    llist.push(2)\n",
    "    print()\n",
    "    llist.traverse()\n",
    "    print()\n",
    "\n",
    "    llist.delete(6)\n",
    "    print()\n",
    "    llist.traverse()\n",
    "    print()\n",
    "    llist.traverse()\n"
   ]
  },
  {
   "cell_type": "markdown",
   "metadata": {},
   "source": [
    "# Delete a Linked List node at a given position"
   ]
  },
  {
   "cell_type": "code",
   "execution_count": 5,
   "metadata": {},
   "outputs": [
    {
     "name": "stdout",
     "output_type": "stream",
     "text": [
      "Linked List is empty\n",
      "6 5 4 3 2 1 \n",
      "No Node at this position found\n",
      "6 5 4 3 2 1 \n"
     ]
    }
   ],
   "source": [
    "class Node:\n",
    "    def __init__(self,data):\n",
    "        self.data=data\n",
    "        self.next=None\n",
    "\n",
    "class LinkedList:\n",
    "    def __init__(self):\n",
    "        self.head=None\n",
    "\n",
    "    def push(self,data):\n",
    "        temp=Node(data)\n",
    "        temp.next=self.head\n",
    "        self.head=temp\n",
    "\n",
    "    def delete(self,pos):\n",
    "\n",
    "        if self.head is None:\n",
    "            print('Linked List is empty')\n",
    "            return\n",
    "        temp=self.head\n",
    "        if pos==0:\n",
    "            self.head=temp.next\n",
    "            temp=None\n",
    "            return\n",
    "        count=0\n",
    "        while temp:\n",
    "            if count==pos:\n",
    "                break\n",
    "            prev=temp\n",
    "            temp=temp.next\n",
    "            count+=1\n",
    "\n",
    "        if temp is None:\n",
    "            print('No Node at this position found')\n",
    "            return\n",
    "\n",
    "        prev.next=temp.next\n",
    "        temp = None\n",
    "\n",
    "    def traverse(self):\n",
    "        if self.head is None:\n",
    "            print('Linked List is empty')\n",
    "            return\n",
    "        temp=self.head\n",
    "        while temp:\n",
    "            print(temp.data,end=\" \")\n",
    "            temp=temp.next\n",
    "        print()\n",
    "\n",
    "if __name__ == '__main__':\n",
    "    llist=LinkedList()\n",
    "    llist.traverse()\n",
    "    llist.push(1)\n",
    "    llist.push(2)\n",
    "    llist.push(3)\n",
    "    llist.push(4)\n",
    "    llist.push(5)\n",
    "    llist.push(6)\n",
    "\n",
    "\n",
    "    llist.traverse()\n",
    "    llist.delete(9)\n",
    "    llist.traverse()\n"
   ]
  },
  {
   "cell_type": "markdown",
   "metadata": {},
   "source": [
    "# Delete an entire Linked List"
   ]
  },
  {
   "cell_type": "code",
   "execution_count": 6,
   "metadata": {},
   "outputs": [],
   "source": [
    "class Node:\n",
    "    def __init__(self,data):\n",
    "        self.data=data\n",
    "        self.next=None\n",
    "\n",
    "class LinkedList:\n",
    "    def __init__(self):\n",
    "        self.head=None\n",
    "\n",
    "    def push(self,data):\n",
    "        temp=Node(data)\n",
    "        if self.head is None:\n",
    "            self.head = temp\n",
    "        else:\n",
    "            temp.next=self.head\n",
    "            self.head=temp\n",
    "            \n",
    "    def deleteLinkedList(self):\n",
    "        if self.head is None:\n",
    "            print('Linked List does not exits!')\n",
    "            return\n",
    "        temp=self.head\n",
    "        while temp:\n",
    "            after=temp.next\n",
    "            del temp.data\n",
    "            temp=after\n",
    "\n",
    "    def traverse(self):\n",
    "        if self.head is None:\n",
    "            print('Linked List is empty')\n",
    "            return\n",
    "        temp=self.head\n",
    "        while temp:\n",
    "            print(temp.data,end=\" \")\n",
    "            temp=temp.next\n"
   ]
  },
  {
   "cell_type": "markdown",
   "metadata": {},
   "source": [
    "# Find Length of a Linked List (Iterative and Recursive)"
   ]
  },
  {
   "cell_type": "code",
   "execution_count": 7,
   "metadata": {},
   "outputs": [
    {
     "name": "stdout",
     "output_type": "stream",
     "text": [
      "0\n",
      "0\n",
      "2\n",
      "2\n"
     ]
    }
   ],
   "source": [
    "class Node:\n",
    "    def __init__(self,data):\n",
    "        self.data=data\n",
    "        self.next=None\n",
    "class LinkedList:\n",
    "    def __init__(self):\n",
    "        self.head=None\n",
    "\n",
    "    def push(self,data):\n",
    "        temp=Node(data)\n",
    "        if self.head is None:\n",
    "            self.head=temp\n",
    "        else:\n",
    "            temp.next=self.head\n",
    "            self.head=temp\n",
    "\n",
    "    def getCountIter(self):\n",
    "        if self.head is None:\n",
    "            return 0\n",
    "        temp=self.head\n",
    "        count=0\n",
    "        while temp:\n",
    "            count+=1\n",
    "            temp=temp.next\n",
    "        return count\n",
    "\n",
    "    def getCountRec(self,temp):\n",
    "        if temp is None:\n",
    "            return 0\n",
    "        return 1+self.getCountRec(temp.next)\n",
    "\n",
    "    def getCount(self):\n",
    "        return self.getCountRec(self.head)\n",
    "\n",
    "if __name__ == '__main__':\n",
    "    llist=LinkedList()\n",
    "    print(llist.getCountIter())\n",
    "    print(llist.getCount())\n",
    "\n",
    "    llist.push(1)\n",
    "    llist.push(2)\n",
    "    print(llist.getCountIter())\n",
    "    print(llist.getCount())\n"
   ]
  },
  {
   "cell_type": "markdown",
   "metadata": {},
   "source": [
    "# Search element in Linked List"
   ]
  },
  {
   "cell_type": "code",
   "execution_count": 8,
   "metadata": {},
   "outputs": [
    {
     "name": "stdout",
     "output_type": "stream",
     "text": [
      "False\n",
      "Linked List is empty\n",
      "True\n",
      "False\n"
     ]
    }
   ],
   "source": [
    "class Node:\n",
    "    def __init__(self,data):\n",
    "        self.data=data\n",
    "        self.next=None\n",
    "\n",
    "class LinkedList:\n",
    "\n",
    "    def __init__(self):\n",
    "        self.head=None\n",
    "\n",
    "    def push(self,data):\n",
    "        temp=Node(data)\n",
    "        if self.head is None:\n",
    "            self.head = temp\n",
    "        else:\n",
    "            temp.next=self.head\n",
    "            self.head=temp\n",
    "\n",
    "    def searchIter(self,key):\n",
    "        if self.head is None:\n",
    "            return 'Linked List is empty'\n",
    "        temp=self.head\n",
    "        while temp:\n",
    "            if temp.data ==key:\n",
    "                return True\n",
    "            temp=temp.next\n",
    "        return False\n",
    "\n",
    "    def searchRec(self,temp,key):\n",
    "        if temp is None:\n",
    "            return False\n",
    "        if temp.data==key:\n",
    "            return True\n",
    "        return self.searchRec(temp.next,key)\n",
    "\n",
    "    def search(self,key):\n",
    "        return self.searchRec(self.head,key)\n",
    "\n",
    "if __name__ == '__main__':\n",
    "\n",
    "    llist=LinkedList()\n",
    "    print(llist.search(1))\n",
    "\n",
    "    print(llist.searchIter(1))\n",
    "    llist.push(1)\n",
    "    print(llist.searchIter(1))\n",
    "    llist.push(2)\n",
    "    print(llist.search(3))\n"
   ]
  },
  {
   "cell_type": "markdown",
   "metadata": {},
   "source": [
    "# Get Nth node in a Linked List"
   ]
  },
  {
   "cell_type": "code",
   "execution_count": 3,
   "metadata": {},
   "outputs": [
    {
     "name": "stdout",
     "output_type": "stream",
     "text": [
      "Linked List is empty\n",
      "1 10 30 14 \n",
      "10\n"
     ]
    }
   ],
   "source": [
    "class Node:\n",
    "    def __init__(self,data):\n",
    "        self.data=data\n",
    "        self.next=None\n",
    "\n",
    "class LinkedList:\n",
    "    def __init__(self):\n",
    "        self.head = None\n",
    "\n",
    "    def push(self,data):\n",
    "        temp=Node(data)\n",
    "        if self.head is None:\n",
    "            self.head = temp\n",
    "        else:\n",
    "            temp.next=self.head\n",
    "            self.head=temp\n",
    "\n",
    "    def getNode(self,ind):\n",
    "        if self.head is None:\n",
    "            return 'Linked List is empty'\n",
    "        temp=self.head\n",
    "        count=0\n",
    "\n",
    "        while temp:\n",
    "            if count==ind:\n",
    "                return temp.data\n",
    "            temp=temp.next\n",
    "            count+=1\n",
    "\n",
    "        if temp is None:\n",
    "            return 'Node Not Found'\n",
    "        \n",
    "    def traverse(self):\n",
    "        if self.head is None:\n",
    "            print('Linked List is empty')\n",
    "            return\n",
    "        temp=self.head\n",
    "        while temp:\n",
    "            print(temp.data,end=\" \")\n",
    "            temp=temp.next\n",
    "        print()\n",
    "\n",
    "if __name__ == '__main__':\n",
    "    llist=LinkedList()\n",
    "    print(llist.getNode(4))\n",
    "    llist.push(14)\n",
    "    llist.push(30)\n",
    "    llist.push(10)\n",
    "    llist.push(1)\n",
    "    llist.traverse()\n",
    "\n",
    "    print(llist.getNode(1))\n"
   ]
  },
  {
   "cell_type": "markdown",
   "metadata": {},
   "source": [
    "# N’th node from the end of a Linked List"
   ]
  },
  {
   "cell_type": "markdown",
   "metadata": {},
   "source": [
    "Approach 1-> Using te length of the linked list"
   ]
  },
  {
   "cell_type": "code",
   "execution_count": 4,
   "metadata": {},
   "outputs": [
    {
     "name": "stdout",
     "output_type": "stream",
     "text": [
      "35 15 4 20 \n",
      "35\n",
      "20\n"
     ]
    }
   ],
   "source": [
    "class Node:\n",
    "    def __init__(self,data):\n",
    "        self.data=data\n",
    "        self.next=None\n",
    "        \n",
    "class LinkedList:\n",
    "    def __init__(self):\n",
    "        self.head = None\n",
    "\n",
    "    def push(self,data):\n",
    "        temp=Node(data)\n",
    "        if self.head is None:\n",
    "            self.head = temp\n",
    "        else:\n",
    "            temp.next=self.head\n",
    "            self.head=temp\n",
    "\n",
    "    def length(self):\n",
    "        if self.head is None:\n",
    "            return 0\n",
    "        temp=self.head\n",
    "        count=0\n",
    "        while temp:\n",
    "            count+=1\n",
    "            temp=temp.next\n",
    "        return count\n",
    "\n",
    "    def getNode(self,ind):\n",
    "        l=self.length()\n",
    "        if l==0:\n",
    "            return 'Linked List empty'\n",
    "        temp=self.head\n",
    "        count=0\n",
    "        while temp:\n",
    "            if l-count-1==ind:\n",
    "                return temp.data\n",
    "            temp=temp.next\n",
    "            count+=1\n",
    "        if temp is None:\n",
    "            return 'No Node Found'\n",
    "\n",
    "    def traverse(self):\n",
    "        if self.head is None:\n",
    "            print('Linked List empty')\n",
    "            return\n",
    "        temp=self.head\n",
    "        while temp:\n",
    "            print(temp.data,end=\" \")\n",
    "            temp=temp.next\n",
    "        print()\n",
    "\n",
    "    def getNNode(self,pos):\n",
    "        if self.head is None:\n",
    "            print(\"Linked List is empty\")\n",
    "            return\n",
    "        i=[0]\n",
    "        self.getNNodeRec(self.head,pos,i)\n",
    "\n",
    "    def getNNodeRec(self,temp,pos,i):\n",
    "        if temp is None:\n",
    "            return\n",
    "        self.getNNodeRec(temp.next,pos,i)\n",
    "        i[0]=i[0]+1\n",
    "        if i[0]==pos:\n",
    "            print(temp.data)\n",
    "\n",
    "if __name__ == '__main__':\n",
    "    llist=LinkedList()\n",
    "    llist.push(20)\n",
    "    llist.push(4)\n",
    "    llist.push(15)\n",
    "    llist.push(35)\n",
    "    llist.traverse()\n",
    "    print(llist.getNode(3))\n",
    "    llist.getNNode(1)\n"
   ]
  },
  {
   "cell_type": "markdown",
   "metadata": {},
   "source": [
    "Approach 2-> <strong>CONCEPT : 2 pointers</strong>, reference pointer and main pointer. Initialize both reference and main pointers to head. First, move the reference pointer to n nodes from head. Now move both pointers one by one until the reference pointer reaches the end. Now the main pointer will point to nth node from the end. Return the main pointer."
   ]
  },
  {
   "cell_type": "code",
   "execution_count": 5,
   "metadata": {},
   "outputs": [
    {
     "name": "stdout",
     "output_type": "stream",
     "text": [
      "35 15 4 20 \n",
      "15\n"
     ]
    }
   ],
   "source": [
    "class Node:\n",
    "    def __init__(self,data):\n",
    "        self.data=data\n",
    "        self.next=None\n",
    "\n",
    "class LinkedList:\n",
    "    def __init__(self):\n",
    "        self.head=None\n",
    "\n",
    "    def push(self,data):\n",
    "        temp=Node(data)\n",
    "        if self.head is None:\n",
    "            self.head=temp\n",
    "            return\n",
    "        temp.next=self.head\n",
    "        self.head=temp\n",
    "\n",
    "    def getNodeFromEnd(self,pos):\n",
    "        if self.head is None:\n",
    "            print(\"Linked List is empty\")\n",
    "            return\n",
    "        mainPtr=self.head\n",
    "        refPtr=self.head\n",
    "        count=0\n",
    "        while count<pos:\n",
    "            refPtr=refPtr.next\n",
    "            count+=1\n",
    "        while refPtr:\n",
    "            mainPtr=mainPtr.next\n",
    "            refPtr=refPtr.next\n",
    "        print(mainPtr.data)\n",
    "\n",
    "    def traverse(self):\n",
    "        if self.head is None:\n",
    "            print(\"LinkedList is empty\")\n",
    "            return\n",
    "        temp=self.head\n",
    "        while temp:\n",
    "            print(temp.data,end=\" \")\n",
    "            temp=temp.next\n",
    "        print()\n",
    "\n",
    "if __name__ == '__main__':\n",
    "    llist=LinkedList()\n",
    "    llist.push(20)\n",
    "    llist.push(4)\n",
    "    llist.push(15)\n",
    "    llist.push(35)\n",
    "    llist.traverse()\n",
    "    llist.getNodeFromEnd(3)\n"
   ]
  },
  {
   "cell_type": "markdown",
   "metadata": {},
   "source": [
    "Approach 3-> Recursion getNNode() above"
   ]
  },
  {
   "cell_type": "markdown",
   "metadata": {},
   "source": [
    "# Find the middle of a given linked list"
   ]
  },
  {
   "cell_type": "markdown",
   "metadata": {},
   "source": [
    "For example, if the given linked list is 1->2->3->4->5 then the output should be 3. \n",
    "If there are even nodes, then there would be two middle nodes, we need to print the second middle element. For example, if given linked list is 1->2->3->4->5->6 then output should be 4. "
   ]
  },
  {
   "cell_type": "markdown",
   "metadata": {},
   "source": [
    "Approach 1-> Use the length of the linked list. getMid()"
   ]
  },
  {
   "cell_type": "code",
   "execution_count": 7,
   "metadata": {},
   "outputs": [
    {
     "name": "stdout",
     "output_type": "stream",
     "text": [
      "Middle Node is-> 2\n",
      "2\n"
     ]
    }
   ],
   "source": [
    "class Node:\n",
    "    def __init__(self,data):\n",
    "        self.data=data\n",
    "        self.next=None\n",
    "class LinkedList:\n",
    "\n",
    "    def __init__(self):\n",
    "        self.head=None\n",
    "\n",
    "    def push(self,data):\n",
    "        temp=Node(data)\n",
    "        if self.head is None:\n",
    "            self.head=temp\n",
    "            return\n",
    "        temp.next=self.head\n",
    "        self.head =temp\n",
    "\n",
    "    def findMid(self):\n",
    "        if self.head is None:\n",
    "            print('Linked List is empty')\n",
    "            return\n",
    "        temp=self.head\n",
    "        mid=self.head\n",
    "        count=0\n",
    "        while temp:\n",
    "            if count%2!=0:\n",
    "                mid=mid.next\n",
    "            temp=temp.next\n",
    "            count+=1\n",
    "        print(mid.data)\n",
    "\n",
    "\n",
    "    def findMiddle(self):\n",
    "        if self.head is None:\n",
    "            print('Linked List is empty!')\n",
    "            return\n",
    "        fast_ptr=self.head\n",
    "        slow_ptr=self.head\n",
    "        while fast_ptr and fast_ptr.next:\n",
    "            slow_ptr=slow_ptr.next\n",
    "            fast_ptr=fast_ptr.next.next\n",
    "        print('Middle Node is->',slow_ptr.data)\n",
    "\n",
    "if __name__ == '__main__':\n",
    "    llist=LinkedList()\n",
    "    #llist.push(6)\n",
    "    #llist.push(5)\n",
    "    #llist.push(4)\n",
    "    #llist.push(3)\n",
    "    llist.push(2)\n",
    "    llist.push(1)\n",
    "    llist.findMiddle()\n",
    "    llist.findMid()\n"
   ]
  },
  {
   "cell_type": "markdown",
   "metadata": {},
   "source": [
    "Approach2-> <strong>CONCEPT : HARE AND TORTOISE.</strong> Traverse linked list using two pointers. Move one pointer by one and the other pointers by two. When the fast pointer reaches the end slow pointer will reach the middle of the linked list."
   ]
  },
  {
   "cell_type": "markdown",
   "metadata": {},
   "source": [
    "findMiddle()"
   ]
  },
  {
   "cell_type": "code",
   "execution_count": 9,
   "metadata": {},
   "outputs": [
    {
     "name": "stdout",
     "output_type": "stream",
     "text": [
      "Middle Node is-> 2\n"
     ]
    }
   ],
   "source": [
    "class Node:\n",
    "    def __init__(self,data):\n",
    "        self.data=data\n",
    "        self.next=None\n",
    "class LinkedList:\n",
    "\n",
    "    def __init__(self):\n",
    "        self.head=None\n",
    "\n",
    "    def push(self,data):\n",
    "        temp=Node(data)\n",
    "        if self.head is None:\n",
    "            self.head=temp\n",
    "            return\n",
    "        temp.next=self.head\n",
    "        self.head =temp\n",
    "\n",
    "    def findMid(self):\n",
    "        if self.head is None:\n",
    "            print('Linked List is empty')\n",
    "            return\n",
    "        temp=self.head\n",
    "        mid=self.head\n",
    "        count=0\n",
    "        while temp:\n",
    "            if count%2!=0:\n",
    "                mid=mid.next\n",
    "            temp=temp.next\n",
    "            count+=1\n",
    "        print(mid.data)\n",
    "\n",
    "\n",
    "    def findMiddle(self):\n",
    "        if self.head is None:\n",
    "            print('Linked List is empty!')\n",
    "            return\n",
    "        fast_ptr=self.head\n",
    "        slow_ptr=self.head\n",
    "        while fast_ptr and fast_ptr.next:\n",
    "            slow_ptr=slow_ptr.next\n",
    "            fast_ptr=fast_ptr.next.next\n",
    "        print('Middle Node is->',slow_ptr.data)\n",
    "\n",
    "if __name__ == '__main__':\n",
    "    llist=LinkedList()\n",
    "    #llist.push(6)\n",
    "    #llist.push(5)\n",
    "    #llist.push(4)\n",
    "    #llist.push(3)\n",
    "    llist.push(2)\n",
    "    llist.push(1)\n",
    "    llist.findMiddle()\n",
    "#     llist.findMid()\n"
   ]
  },
  {
   "cell_type": "code",
   "execution_count": null,
   "metadata": {},
   "outputs": [],
   "source": []
  }
 ],
 "metadata": {
  "kernelspec": {
   "display_name": "Python 3",
   "language": "python",
   "name": "python3"
  },
  "language_info": {
   "codemirror_mode": {
    "name": "ipython",
    "version": 3
   },
   "file_extension": ".py",
   "mimetype": "text/x-python",
   "name": "python",
   "nbconvert_exporter": "python",
   "pygments_lexer": "ipython3",
   "version": "3.7.6"
  }
 },
 "nbformat": 4,
 "nbformat_minor": 4
}
