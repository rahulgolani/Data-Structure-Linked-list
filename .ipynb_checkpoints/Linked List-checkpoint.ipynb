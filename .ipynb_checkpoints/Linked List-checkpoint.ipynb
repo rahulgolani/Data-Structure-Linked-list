{
 "cells": [
  {
   "cell_type": "markdown",
   "metadata": {},
   "source": [
    "# Why Linked List?"
   ]
  },
  {
   "cell_type": "markdown",
   "metadata": {},
   "source": [
    "Arrays can be used to store linear data of similar types, but arrays have the following limitations.\n",
    "\n",
    "1) The size of the arrays is fixed: So we must know the upper limit on the number of elements in advance. Also, generally, the allocated memory is equal to the upper limit irrespective of the usage.\n",
    "\n",
    "2) Inserting a new element in an array of elements is expensive because the room has to be created for the new elements and to create room existing elements have to be shifted."
   ]
  },
  {
   "cell_type": "markdown",
   "metadata": {},
   "source": [
    "<strong>Advantages over arrays</strong>\n",
    "\n",
    "1) Dynamic size\n",
    "\n",
    "2) Ease of insertion/deletion"
   ]
  },
  {
   "cell_type": "markdown",
   "metadata": {},
   "source": [
    "<strong>Drawbacks</strong>\n",
    "\n",
    "1) Random access is not allowed. We have to access elements sequentially starting from the first node. So we cannot do binary search with linked lists efficiently with its default implementation. Read about it here.\n",
    "\n",
    "2) Extra memory space for a pointer is required with each element of the list.\n",
    "\n",
    "3) Not cache friendly. Since array elements are contiguous locations, there is locality of reference which is not there in case of linked lists."
   ]
  },
  {
   "cell_type": "markdown",
   "metadata": {},
   "source": [
    "# Linked List Representation"
   ]
  },
  {
   "cell_type": "code",
   "execution_count": 1,
   "metadata": {},
   "outputs": [],
   "source": [
    "class Node:\n",
    "\n",
    "    def __init__(self,data):\n",
    "        self.data=data\n",
    "        self.next=None\n",
    "\n",
    "class LinkedList:\n",
    "\n",
    "    def __init__(self):\n",
    "        self.head=None\n",
    "\n",
    "llist=LinkedList()\n",
    "llist.head=Node(1)\n",
    "second=Node(2)\n",
    "third=Node(3)\n"
   ]
  },
  {
   "cell_type": "markdown",
   "metadata": {},
   "source": [
    "# Traversal"
   ]
  },
  {
   "cell_type": "code",
   "execution_count": 2,
   "metadata": {},
   "outputs": [
    {
     "name": "stdout",
     "output_type": "stream",
     "text": [
      "1 2 3 "
     ]
    }
   ],
   "source": [
    "class Node:\n",
    "\n",
    "    def __init__(self,data):\n",
    "        self.data=data\n",
    "        self.next=None\n",
    "\n",
    "class LinkedList:\n",
    "\n",
    "    def __init__(self):\n",
    "        self.head=None\n",
    "\n",
    "    def traverse(self):\n",
    "        temp=self.head\n",
    "        while temp:\n",
    "            print(temp.data,end=' ')\n",
    "            temp=temp.next\n",
    "\n",
    "if __name__ == '__main__':\n",
    "\n",
    "    llist=LinkedList()\n",
    "    llist.head=Node(1)\n",
    "    second=Node(2)\n",
    "    third=Node(3)\n",
    "    llist.head.next=second\n",
    "    second.next=third\n",
    "    llist.traverse()\n"
   ]
  },
  {
   "cell_type": "markdown",
   "metadata": {},
   "source": [
    "# Linked List Insertion"
   ]
  },
  {
   "cell_type": "markdown",
   "metadata": {},
   "source": [
    "1) At the front of the linked list\n",
    "\n",
    "2) After a given node. \n",
    "\n",
    "3) At the end of the linked list."
   ]
  },
  {
   "cell_type": "code",
   "execution_count": 3,
   "metadata": {},
   "outputs": [
    {
     "name": "stdout",
     "output_type": "stream",
     "text": [
      "Linked List is empty\n",
      "1 7 8 6 4 "
     ]
    }
   ],
   "source": [
    "class Node:\n",
    "    def __init__(self,data):\n",
    "        self.data=data\n",
    "        self.next=None\n",
    "\n",
    "class LinkedList:\n",
    "    def __init__(self):\n",
    "        self.head=None\n",
    "\n",
    "    def push(self,data):\n",
    "        temp=Node(data)\n",
    "        if self.head is None:\n",
    "            self.head=temp\n",
    "        else:\n",
    "            temp.next=self.head\n",
    "            self.head=temp\n",
    "\n",
    "    def insertAfter(self,prev,data):\n",
    "        temp=Node(data)\n",
    "        if prev is None:\n",
    "            print('No previous element found')\n",
    "            return\n",
    "        temp.next=prev.next\n",
    "        prev.next=temp\n",
    "\n",
    "    def append(self,data):\n",
    "        temp=Node(data)\n",
    "        if self.head is None:\n",
    "            self.head=temp\n",
    "        else:\n",
    "            ref=self.head\n",
    "            while ref.next:\n",
    "                ref=ref.next\n",
    "            ref.next=temp\n",
    "\n",
    "    def traverse(self):\n",
    "        if self.head is None:\n",
    "            print('Linked List is empty')\n",
    "            return\n",
    "        temp=self.head\n",
    "        while temp:\n",
    "            print(temp.data,end=\" \")\n",
    "            temp=temp.next\n",
    "\n",
    "\n",
    "if __name__ == '__main__':\n",
    "    llist=LinkedList()\n",
    "    llist.traverse()\n",
    "    llist.append(6)\n",
    "    llist.push(7)\n",
    "    llist.push(1)\n",
    "    llist.append(4)\n",
    "    llist.insertAfter(llist.head.next,8)\n",
    "    llist.traverse()\n"
   ]
  },
  {
   "cell_type": "markdown",
   "metadata": {},
   "source": [
    "# Linked List Deletion"
   ]
  },
  {
   "cell_type": "code",
   "execution_count": 4,
   "metadata": {},
   "outputs": [
    {
     "name": "stdout",
     "output_type": "stream",
     "text": [
      "Linked List empty\n",
      "\n",
      "2 3 1 7 \n",
      "Key element not found\n",
      "\n",
      "2 3 1 7 \n",
      "2 3 1 7 "
     ]
    }
   ],
   "source": [
    "class Node:\n",
    "    def __init__(self,data):\n",
    "        self.data=data\n",
    "        self.next=None\n",
    "\n",
    "class LinkedList:\n",
    "    def __init__(self):\n",
    "        self.head=None\n",
    "\n",
    "    def push(self,data):\n",
    "        temp=Node(data)\n",
    "        if self.head is None:\n",
    "            self.head=temp\n",
    "        else:\n",
    "            temp.next=self.head\n",
    "            self.head=temp\n",
    "\n",
    "    def delete(self,key):\n",
    "\n",
    "        if self.head is None:\n",
    "            print('Linked List empty')\n",
    "            return\n",
    "\n",
    "        temp=self.head\n",
    "        if temp.data==key:\n",
    "            self.head=temp.next\n",
    "            temp=None\n",
    "            return\n",
    "\n",
    "        while temp:\n",
    "            if temp.data==key:\n",
    "                break\n",
    "            prev=temp\n",
    "            temp=temp.next\n",
    "\n",
    "        if temp is None:\n",
    "            print('Key element not found')\n",
    "            return\n",
    "\n",
    "        prev.next=temp.next\n",
    "        temp=None\n",
    "\n",
    "    def traverse(self):\n",
    "        if self.head is None:\n",
    "            print('Linked List is empty')\n",
    "            return\n",
    "        else:\n",
    "            temp=self.head\n",
    "            while temp:\n",
    "                print(temp.data,end=\" \")\n",
    "                temp=temp.next\n",
    "\n",
    "if __name__ == '__main__':\n",
    "    llist=LinkedList()\n",
    "    llist.delete(6)\n",
    "    llist.push(7)\n",
    "    llist.push(1)\n",
    "    llist.push(3)\n",
    "    llist.push(2)\n",
    "    print()\n",
    "    llist.traverse()\n",
    "    print()\n",
    "\n",
    "    llist.delete(6)\n",
    "    print()\n",
    "    llist.traverse()\n",
    "    print()\n",
    "    llist.traverse()\n"
   ]
  },
  {
   "cell_type": "markdown",
   "metadata": {},
   "source": [
    "# Delete a Linked List node at a given position"
   ]
  },
  {
   "cell_type": "code",
   "execution_count": 5,
   "metadata": {},
   "outputs": [
    {
     "name": "stdout",
     "output_type": "stream",
     "text": [
      "Linked List is empty\n",
      "6 5 4 3 2 1 \n",
      "No Node at this position found\n",
      "6 5 4 3 2 1 \n"
     ]
    }
   ],
   "source": [
    "class Node:\n",
    "    def __init__(self,data):\n",
    "        self.data=data\n",
    "        self.next=None\n",
    "\n",
    "class LinkedList:\n",
    "    def __init__(self):\n",
    "        self.head=None\n",
    "\n",
    "    def push(self,data):\n",
    "        temp=Node(data)\n",
    "        temp.next=self.head\n",
    "        self.head=temp\n",
    "\n",
    "    def delete(self,pos):\n",
    "\n",
    "        if self.head is None:\n",
    "            print('Linked List is empty')\n",
    "            return\n",
    "        temp=self.head\n",
    "        if pos==0:\n",
    "            self.head=temp.next\n",
    "            temp=None\n",
    "            return\n",
    "        count=0\n",
    "        while temp:\n",
    "            if count==pos:\n",
    "                break\n",
    "            prev=temp\n",
    "            temp=temp.next\n",
    "            count+=1\n",
    "\n",
    "        if temp is None:\n",
    "            print('No Node at this position found')\n",
    "            return\n",
    "\n",
    "        prev.next=temp.next\n",
    "        temp = None\n",
    "\n",
    "    def traverse(self):\n",
    "        if self.head is None:\n",
    "            print('Linked List is empty')\n",
    "            return\n",
    "        temp=self.head\n",
    "        while temp:\n",
    "            print(temp.data,end=\" \")\n",
    "            temp=temp.next\n",
    "        print()\n",
    "\n",
    "if __name__ == '__main__':\n",
    "    llist=LinkedList()\n",
    "    llist.traverse()\n",
    "    llist.push(1)\n",
    "    llist.push(2)\n",
    "    llist.push(3)\n",
    "    llist.push(4)\n",
    "    llist.push(5)\n",
    "    llist.push(6)\n",
    "\n",
    "\n",
    "    llist.traverse()\n",
    "    llist.delete(9)\n",
    "    llist.traverse()\n"
   ]
  },
  {
   "cell_type": "markdown",
   "metadata": {},
   "source": [
    "# Delete an entire Linked List"
   ]
  },
  {
   "cell_type": "code",
   "execution_count": 6,
   "metadata": {},
   "outputs": [],
   "source": [
    "class Node:\n",
    "    def __init__(self,data):\n",
    "        self.data=data\n",
    "        self.next=None\n",
    "\n",
    "class LinkedList:\n",
    "    def __init__(self):\n",
    "        self.head=None\n",
    "\n",
    "    def push(self,data):\n",
    "        temp=Node(data)\n",
    "        if self.head is None:\n",
    "            self.head = temp\n",
    "        else:\n",
    "            temp.next=self.head\n",
    "            self.head=temp\n",
    "            \n",
    "    def deleteLinkedList(self):\n",
    "        if self.head is None:\n",
    "            print('Linked List does not exits!')\n",
    "            return\n",
    "        temp=self.head\n",
    "        while temp:\n",
    "            after=temp.next\n",
    "            del temp.data\n",
    "            temp=after\n",
    "\n",
    "    def traverse(self):\n",
    "        if self.head is None:\n",
    "            print('Linked List is empty')\n",
    "            return\n",
    "        temp=self.head\n",
    "        while temp:\n",
    "            print(temp.data,end=\" \")\n",
    "            temp=temp.next\n"
   ]
  },
  {
   "cell_type": "markdown",
   "metadata": {},
   "source": [
    "# Find Length of a Linked List (Iterative and Recursive)"
   ]
  },
  {
   "cell_type": "code",
   "execution_count": 7,
   "metadata": {},
   "outputs": [
    {
     "name": "stdout",
     "output_type": "stream",
     "text": [
      "0\n",
      "0\n",
      "2\n",
      "2\n"
     ]
    }
   ],
   "source": [
    "class Node:\n",
    "    def __init__(self,data):\n",
    "        self.data=data\n",
    "        self.next=None\n",
    "class LinkedList:\n",
    "    def __init__(self):\n",
    "        self.head=None\n",
    "\n",
    "    def push(self,data):\n",
    "        temp=Node(data)\n",
    "        if self.head is None:\n",
    "            self.head=temp\n",
    "        else:\n",
    "            temp.next=self.head\n",
    "            self.head=temp\n",
    "\n",
    "    def getCountIter(self):\n",
    "        if self.head is None:\n",
    "            return 0\n",
    "        temp=self.head\n",
    "        count=0\n",
    "        while temp:\n",
    "            count+=1\n",
    "            temp=temp.next\n",
    "        return count\n",
    "\n",
    "    def getCountRec(self,temp):\n",
    "        if temp is None:\n",
    "            return 0\n",
    "        return 1+self.getCountRec(temp.next)\n",
    "\n",
    "    def getCount(self):\n",
    "        return self.getCountRec(self.head)\n",
    "\n",
    "if __name__ == '__main__':\n",
    "    llist=LinkedList()\n",
    "    print(llist.getCountIter())\n",
    "    print(llist.getCount())\n",
    "\n",
    "    llist.push(1)\n",
    "    llist.push(2)\n",
    "    print(llist.getCountIter())\n",
    "    print(llist.getCount())\n"
   ]
  },
  {
   "cell_type": "markdown",
   "metadata": {},
   "source": [
    "# Search element in Linked List"
   ]
  },
  {
   "cell_type": "code",
   "execution_count": 8,
   "metadata": {},
   "outputs": [
    {
     "name": "stdout",
     "output_type": "stream",
     "text": [
      "False\n",
      "Linked List is empty\n",
      "True\n",
      "False\n"
     ]
    }
   ],
   "source": [
    "class Node:\n",
    "    def __init__(self,data):\n",
    "        self.data=data\n",
    "        self.next=None\n",
    "\n",
    "class LinkedList:\n",
    "\n",
    "    def __init__(self):\n",
    "        self.head=None\n",
    "\n",
    "    def push(self,data):\n",
    "        temp=Node(data)\n",
    "        if self.head is None:\n",
    "            self.head = temp\n",
    "        else:\n",
    "            temp.next=self.head\n",
    "            self.head=temp\n",
    "\n",
    "    def searchIter(self,key):\n",
    "        if self.head is None:\n",
    "            return 'Linked List is empty'\n",
    "        temp=self.head\n",
    "        while temp:\n",
    "            if temp.data ==key:\n",
    "                return True\n",
    "            temp=temp.next\n",
    "        return False\n",
    "\n",
    "    def searchRec(self,temp,key):\n",
    "        if temp is None:\n",
    "            return False\n",
    "        if temp.data==key:\n",
    "            return True\n",
    "        return self.searchRec(temp.next,key)\n",
    "\n",
    "    def search(self,key):\n",
    "        return self.searchRec(self.head,key)\n",
    "\n",
    "if __name__ == '__main__':\n",
    "\n",
    "    llist=LinkedList()\n",
    "    print(llist.search(1))\n",
    "\n",
    "    print(llist.searchIter(1))\n",
    "    llist.push(1)\n",
    "    print(llist.searchIter(1))\n",
    "    llist.push(2)\n",
    "    print(llist.search(3))\n"
   ]
  },
  {
   "cell_type": "markdown",
   "metadata": {},
   "source": [
    "# Get Nth node in a Linked List"
   ]
  },
  {
   "cell_type": "code",
   "execution_count": 3,
   "metadata": {},
   "outputs": [
    {
     "name": "stdout",
     "output_type": "stream",
     "text": [
      "Linked List is empty\n",
      "1 10 30 14 \n",
      "10\n"
     ]
    }
   ],
   "source": [
    "class Node:\n",
    "    def __init__(self,data):\n",
    "        self.data=data\n",
    "        self.next=None\n",
    "\n",
    "class LinkedList:\n",
    "    def __init__(self):\n",
    "        self.head = None\n",
    "\n",
    "    def push(self,data):\n",
    "        temp=Node(data)\n",
    "        if self.head is None:\n",
    "            self.head = temp\n",
    "        else:\n",
    "            temp.next=self.head\n",
    "            self.head=temp\n",
    "\n",
    "    def getNode(self,ind):\n",
    "        if self.head is None:\n",
    "            return 'Linked List is empty'\n",
    "        temp=self.head\n",
    "        count=0\n",
    "\n",
    "        while temp:\n",
    "            if count==ind:\n",
    "                return temp.data\n",
    "            temp=temp.next\n",
    "            count+=1\n",
    "\n",
    "        if temp is None:\n",
    "            return 'Node Not Found'\n",
    "        \n",
    "    def traverse(self):\n",
    "        if self.head is None:\n",
    "            print('Linked List is empty')\n",
    "            return\n",
    "        temp=self.head\n",
    "        while temp:\n",
    "            print(temp.data,end=\" \")\n",
    "            temp=temp.next\n",
    "        print()\n",
    "\n",
    "if __name__ == '__main__':\n",
    "    llist=LinkedList()\n",
    "    print(llist.getNode(4))\n",
    "    llist.push(14)\n",
    "    llist.push(30)\n",
    "    llist.push(10)\n",
    "    llist.push(1)\n",
    "    llist.traverse()\n",
    "\n",
    "    print(llist.getNode(1))\n"
   ]
  },
  {
   "cell_type": "markdown",
   "metadata": {},
   "source": [
    "# N’th node from the end of a Linked List"
   ]
  },
  {
   "cell_type": "markdown",
   "metadata": {},
   "source": [
    "Approach 1-> Using te length of the linked list"
   ]
  },
  {
   "cell_type": "code",
   "execution_count": 4,
   "metadata": {},
   "outputs": [
    {
     "name": "stdout",
     "output_type": "stream",
     "text": [
      "35 15 4 20 \n",
      "35\n",
      "20\n"
     ]
    }
   ],
   "source": [
    "class Node:\n",
    "    def __init__(self,data):\n",
    "        self.data=data\n",
    "        self.next=None\n",
    "        \n",
    "class LinkedList:\n",
    "    def __init__(self):\n",
    "        self.head = None\n",
    "\n",
    "    def push(self,data):\n",
    "        temp=Node(data)\n",
    "        if self.head is None:\n",
    "            self.head = temp\n",
    "        else:\n",
    "            temp.next=self.head\n",
    "            self.head=temp\n",
    "\n",
    "    def length(self):\n",
    "        if self.head is None:\n",
    "            return 0\n",
    "        temp=self.head\n",
    "        count=0\n",
    "        while temp:\n",
    "            count+=1\n",
    "            temp=temp.next\n",
    "        return count\n",
    "\n",
    "    def getNode(self,ind):\n",
    "        l=self.length()\n",
    "        if l==0:\n",
    "            return 'Linked List empty'\n",
    "        temp=self.head\n",
    "        count=0\n",
    "        while temp:\n",
    "            if l-count-1==ind:\n",
    "                return temp.data\n",
    "            temp=temp.next\n",
    "            count+=1\n",
    "        if temp is None:\n",
    "            return 'No Node Found'\n",
    "\n",
    "    def traverse(self):\n",
    "        if self.head is None:\n",
    "            print('Linked List empty')\n",
    "            return\n",
    "        temp=self.head\n",
    "        while temp:\n",
    "            print(temp.data,end=\" \")\n",
    "            temp=temp.next\n",
    "        print()\n",
    "\n",
    "    def getNNode(self,pos):\n",
    "        if self.head is None:\n",
    "            print(\"Linked List is empty\")\n",
    "            return\n",
    "        i=[0]\n",
    "        self.getNNodeRec(self.head,pos,i)\n",
    "\n",
    "    def getNNodeRec(self,temp,pos,i):\n",
    "        if temp is None:\n",
    "            return\n",
    "        self.getNNodeRec(temp.next,pos,i)\n",
    "        i[0]=i[0]+1\n",
    "        if i[0]==pos:\n",
    "            print(temp.data)\n",
    "\n",
    "if __name__ == '__main__':\n",
    "    llist=LinkedList()\n",
    "    llist.push(20)\n",
    "    llist.push(4)\n",
    "    llist.push(15)\n",
    "    llist.push(35)\n",
    "    llist.traverse()\n",
    "    print(llist.getNode(3))\n",
    "    llist.getNNode(1)\n"
   ]
  },
  {
   "cell_type": "markdown",
   "metadata": {},
   "source": [
    "Approach 2-> <strong>CONCEPT : 2 pointers</strong>, reference pointer and main pointer. Initialize both reference and main pointers to head. First, move the reference pointer to n nodes from head. Now move both pointers one by one until the reference pointer reaches the end. Now the main pointer will point to nth node from the end. Return the main pointer."
   ]
  },
  {
   "cell_type": "code",
   "execution_count": 5,
   "metadata": {},
   "outputs": [
    {
     "name": "stdout",
     "output_type": "stream",
     "text": [
      "35 15 4 20 \n",
      "15\n"
     ]
    }
   ],
   "source": [
    "class Node:\n",
    "    def __init__(self,data):\n",
    "        self.data=data\n",
    "        self.next=None\n",
    "\n",
    "class LinkedList:\n",
    "    def __init__(self):\n",
    "        self.head=None\n",
    "\n",
    "    def push(self,data):\n",
    "        temp=Node(data)\n",
    "        if self.head is None:\n",
    "            self.head=temp\n",
    "            return\n",
    "        temp.next=self.head\n",
    "        self.head=temp\n",
    "\n",
    "    def getNodeFromEnd(self,pos):\n",
    "        if self.head is None:\n",
    "            print(\"Linked List is empty\")\n",
    "            return\n",
    "        mainPtr=self.head\n",
    "        refPtr=self.head\n",
    "        count=0\n",
    "        while count<pos:\n",
    "            refPtr=refPtr.next\n",
    "            count+=1\n",
    "        while refPtr:\n",
    "            mainPtr=mainPtr.next\n",
    "            refPtr=refPtr.next\n",
    "        print(mainPtr.data)\n",
    "\n",
    "    def traverse(self):\n",
    "        if self.head is None:\n",
    "            print(\"LinkedList is empty\")\n",
    "            return\n",
    "        temp=self.head\n",
    "        while temp:\n",
    "            print(temp.data,end=\" \")\n",
    "            temp=temp.next\n",
    "        print()\n",
    "\n",
    "if __name__ == '__main__':\n",
    "    llist=LinkedList()\n",
    "    llist.push(20)\n",
    "    llist.push(4)\n",
    "    llist.push(15)\n",
    "    llist.push(35)\n",
    "    llist.traverse()\n",
    "    llist.getNodeFromEnd(3)\n"
   ]
  },
  {
   "cell_type": "markdown",
   "metadata": {},
   "source": [
    "Approach 3-> Recursion getNNode() above"
   ]
  },
  {
   "cell_type": "markdown",
   "metadata": {},
   "source": [
    "# Find the middle of a given linked list"
   ]
  },
  {
   "cell_type": "markdown",
   "metadata": {},
   "source": [
    "For example, if the given linked list is 1->2->3->4->5 then the output should be 3. \n",
    "If there are even nodes, then there would be two middle nodes, we need to print the second middle element. For example, if given linked list is 1->2->3->4->5->6 then output should be 4. "
   ]
  },
  {
   "cell_type": "markdown",
   "metadata": {},
   "source": [
    "Approach 1-> Use the length of the linked list. getMid()"
   ]
  },
  {
   "cell_type": "code",
   "execution_count": 7,
   "metadata": {},
   "outputs": [
    {
     "name": "stdout",
     "output_type": "stream",
     "text": [
      "Middle Node is-> 2\n",
      "2\n"
     ]
    }
   ],
   "source": [
    "class Node:\n",
    "    def __init__(self,data):\n",
    "        self.data=data\n",
    "        self.next=None\n",
    "class LinkedList:\n",
    "\n",
    "    def __init__(self):\n",
    "        self.head=None\n",
    "\n",
    "    def push(self,data):\n",
    "        temp=Node(data)\n",
    "        if self.head is None:\n",
    "            self.head=temp\n",
    "            return\n",
    "        temp.next=self.head\n",
    "        self.head =temp\n",
    "\n",
    "    def findMid(self):\n",
    "        if self.head is None:\n",
    "            print('Linked List is empty')\n",
    "            return\n",
    "        temp=self.head\n",
    "        mid=self.head\n",
    "        count=0\n",
    "        while temp:\n",
    "            if count%2!=0:\n",
    "                mid=mid.next\n",
    "            temp=temp.next\n",
    "            count+=1\n",
    "        print(mid.data)\n",
    "\n",
    "\n",
    "    def findMiddle(self):\n",
    "        if self.head is None:\n",
    "            print('Linked List is empty!')\n",
    "            return\n",
    "        fast_ptr=self.head\n",
    "        slow_ptr=self.head\n",
    "        while fast_ptr and fast_ptr.next:\n",
    "            slow_ptr=slow_ptr.next\n",
    "            fast_ptr=fast_ptr.next.next\n",
    "        print('Middle Node is->',slow_ptr.data)\n",
    "\n",
    "if __name__ == '__main__':\n",
    "    llist=LinkedList()\n",
    "    #llist.push(6)\n",
    "    #llist.push(5)\n",
    "    #llist.push(4)\n",
    "    #llist.push(3)\n",
    "    llist.push(2)\n",
    "    llist.push(1)\n",
    "    llist.findMiddle()\n",
    "    llist.findMid()\n"
   ]
  },
  {
   "cell_type": "markdown",
   "metadata": {},
   "source": [
    "Approach2-> <strong>CONCEPT : HARE AND TORTOISE.</strong> Traverse linked list using two pointers. Move one pointer by one and the other pointers by two. When the fast pointer reaches the end slow pointer will reach the middle of the linked list."
   ]
  },
  {
   "cell_type": "markdown",
   "metadata": {},
   "source": [
    "findMiddle()"
   ]
  },
  {
   "cell_type": "code",
   "execution_count": 9,
   "metadata": {},
   "outputs": [
    {
     "name": "stdout",
     "output_type": "stream",
     "text": [
      "Middle Node is-> 2\n"
     ]
    }
   ],
   "source": [
    "class Node:\n",
    "    def __init__(self,data):\n",
    "        self.data=data\n",
    "        self.next=None\n",
    "class LinkedList:\n",
    "\n",
    "    def __init__(self):\n",
    "        self.head=None\n",
    "\n",
    "    def push(self,data):\n",
    "        temp=Node(data)\n",
    "        if self.head is None:\n",
    "            self.head=temp\n",
    "            return\n",
    "        temp.next=self.head\n",
    "        self.head =temp\n",
    "\n",
    "    def findMid(self):\n",
    "        if self.head is None:\n",
    "            print('Linked List is empty')\n",
    "            return\n",
    "        temp=self.head\n",
    "        mid=self.head\n",
    "        count=0\n",
    "        while temp:\n",
    "            if count%2!=0:\n",
    "                mid=mid.next\n",
    "            temp=temp.next\n",
    "            count+=1\n",
    "        print(mid.data)\n",
    "\n",
    "\n",
    "    def findMiddle(self):\n",
    "        if self.head is None:\n",
    "            print('Linked List is empty!')\n",
    "            return\n",
    "        fast_ptr=self.head\n",
    "        slow_ptr=self.head\n",
    "        while fast_ptr and fast_ptr.next:\n",
    "            slow_ptr=slow_ptr.next\n",
    "            fast_ptr=fast_ptr.next.next\n",
    "        print('Middle Node is->',slow_ptr.data)\n",
    "\n",
    "if __name__ == '__main__':\n",
    "    llist=LinkedList()\n",
    "    #llist.push(6)\n",
    "    #llist.push(5)\n",
    "    #llist.push(4)\n",
    "    #llist.push(3)\n",
    "    llist.push(2)\n",
    "    llist.push(1)\n",
    "    llist.findMiddle()\n",
    "#     llist.findMid()\n"
   ]
  },
  {
   "cell_type": "markdown",
   "metadata": {},
   "source": [
    "Approach 3-> Initialize mid element as head and initialize a counter as 0. Traverse the list from head, while traversing increment the counter and change mid to mid->next whenever the counter is odd. So the mid will move only half of the total length of the list. "
   ]
  },
  {
   "cell_type": "markdown",
   "metadata": {},
   "source": [
    "# Count the number of times a given int occurs in a Linked List"
   ]
  },
  {
   "cell_type": "markdown",
   "metadata": {},
   "source": [
    "Traverse and maintain a count"
   ]
  },
  {
   "cell_type": "markdown",
   "metadata": {},
   "source": [
    "Recursion"
   ]
  },
  {
   "cell_type": "markdown",
   "metadata": {},
   "source": [
    "# Detect loop in a linked list"
   ]
  },
  {
   "cell_type": "markdown",
   "metadata": {},
   "source": [
    "Approach 1-> Use Hashing. Maintain a set and as soon as the element comes up that is already in the set we know that this is the start of the loop"
   ]
  },
  {
   "cell_type": "code",
   "execution_count": 10,
   "metadata": {},
   "outputs": [
    {
     "name": "stdout",
     "output_type": "stream",
     "text": [
      "False\n",
      "True\n"
     ]
    }
   ],
   "source": [
    "class Node:\n",
    "    def __init__(self,data):\n",
    "        self.data=data\n",
    "        self.next=None\n",
    "class LinkedList:\n",
    "    def __init__(self):\n",
    "        self.head = None\n",
    "    def push(self,data):\n",
    "        temp=Node(data)\n",
    "        if self.head is None:\n",
    "            self.head = temp\n",
    "        else:\n",
    "            temp.next=self.head\n",
    "            self.head=temp\n",
    "\n",
    "    def traverse(self):\n",
    "        if self.head is None:\n",
    "            print('Linked List is empty')\n",
    "            return\n",
    "        temp=self.head\n",
    "        while temp:\n",
    "            print(temp.data,end=\" \")\n",
    "            temp=temp.next\n",
    "\n",
    "    def isLoop(self):\n",
    "        if self.head is None:\n",
    "            print('Linked List is empty')\n",
    "            return False\n",
    "        s=set()\n",
    "        temp=self.head\n",
    "        while temp:\n",
    "            if temp in s:\n",
    "                return True\n",
    "            s.add(temp)\n",
    "            temp=temp.next\n",
    "\n",
    "        return False\n",
    "\n",
    "if __name__ == '__main__':\n",
    "    llist=LinkedList()\n",
    "    llist.push(20)\n",
    "    llist.push(4)\n",
    "    llist.push(15)\n",
    "    llist.push(10)\n",
    "    print(llist.isLoop())\n",
    "    llist.head.next.next.next.next = llist.head\n",
    "    print(llist.isLoop())\n"
   ]
  },
  {
   "cell_type": "markdown",
   "metadata": {},
   "source": [
    "Approach 2-> Modify the node structure. Works in case there are duplicates "
   ]
  },
  {
   "cell_type": "code",
   "execution_count": 11,
   "metadata": {},
   "outputs": [
    {
     "name": "stdout",
     "output_type": "stream",
     "text": [
      "False\n",
      "True\n"
     ]
    }
   ],
   "source": [
    "class Node:\n",
    "    def __init__(self,data):\n",
    "        self.data=data\n",
    "        self.next=None\n",
    "        self.visited=False\n",
    "        \n",
    "class LinkedList:\n",
    "    def __init__(self):\n",
    "        self.head = None\n",
    "    def push(self,data):\n",
    "        temp=Node(data)\n",
    "        if self.head is None:\n",
    "            self.head = temp\n",
    "        else:\n",
    "            temp.next=self.head\n",
    "            self.head=temp\n",
    "\n",
    "    def traverse(self):\n",
    "        if self.head is None:\n",
    "            print('Linked List is empty')\n",
    "            return\n",
    "        temp=self.head\n",
    "        while temp:\n",
    "            print(temp.data,end=\" \")\n",
    "            temp=temp.next\n",
    "\n",
    "    def isLoop(self):\n",
    "        if self.head is None:\n",
    "            print('Linked List is empty')\n",
    "            return False\n",
    "        #s=set()\n",
    "        temp=self.head\n",
    "        while temp:\n",
    "            if temp.visited is True:\n",
    "                return True\n",
    "            #s.add(temp)\n",
    "            temp.visited=True\n",
    "            temp=temp.next\n",
    "\n",
    "        return False\n",
    "\n",
    "if __name__ == '__main__':\n",
    "    llist=LinkedList()\n",
    "    llist.push(20)\n",
    "    llist.push(4)\n",
    "    llist.push(15)\n",
    "    llist.push(10)\n",
    "    print(llist.isLoop())\n",
    "    llist.head.next.next.next.next = llist.head\n",
    "    print(llist.isLoop())\n"
   ]
  },
  {
   "cell_type": "markdown",
   "metadata": {},
   "source": [
    "Approach 3-> <strong>CONCEPT : Floyd’s Cycle-Finding Algorithm</strong>"
   ]
  },
  {
   "cell_type": "markdown",
   "metadata": {},
   "source": [
    "This is the fastest method and has been described below:  \n",
    "\n",
    "1) Traverse linked list using two pointers.\n",
    "\n",
    "2) Move one pointer(slow_p) by one and another pointer(fast_p) by two.\n",
    "\n",
    "3) If these pointers meet at the same node then there is a loop. If pointers do not meet then linked list doesn’t have a loop."
   ]
  },
  {
   "cell_type": "code",
   "execution_count": 12,
   "metadata": {},
   "outputs": [
    {
     "name": "stdout",
     "output_type": "stream",
     "text": [
      "False\n",
      "True\n"
     ]
    }
   ],
   "source": [
    "class Node:\n",
    "    def __init__(self,data):\n",
    "        self.data=data\n",
    "        self.next=None\n",
    "        \n",
    "class LinkedList:\n",
    "    def __init__(self):\n",
    "        self.head = None\n",
    "\n",
    "    def push(self,data):\n",
    "        temp=Node(data)\n",
    "        if self.head is None:\n",
    "            self.head = temp\n",
    "        else:\n",
    "            temp.next=self.head\n",
    "            self.head=temp\n",
    "\n",
    "    def traverse(self):\n",
    "        if self.head is None:\n",
    "            print('Linked List is empty')\n",
    "            return\n",
    "        temp=self.head\n",
    "        while temp:\n",
    "            print(temp.data,end=\" \")\n",
    "            temp=temp.next\n",
    "\n",
    "    def isLoop(self):\n",
    "        if self.head is None:\n",
    "            print('Linked List is empty')\n",
    "            return False\n",
    "        slow=self.head\n",
    "        fast=self.head\n",
    "        while slow and fast and fast.next:\n",
    "            slow=slow.next\n",
    "            fast=fast.next.next\n",
    "            if slow == fast:\n",
    "                return True\n",
    "        return False\n",
    "\n",
    "if __name__ == '__main__':\n",
    "    llist=LinkedList()\n",
    "    llist.push(20)\n",
    "    llist.push(4)\n",
    "    llist.push(15)\n",
    "    llist.push(10)\n",
    "    print(llist.isLoop())\n",
    "    llist.head.next.next.next.next = llist.head\n",
    "    print(llist.isLoop())\n"
   ]
  },
  {
   "cell_type": "markdown",
   "metadata": {},
   "source": [
    "# How does Floyd’s slow and fast pointers approach work?"
   ]
  },
  {
   "cell_type": "markdown",
   "metadata": {},
   "source": [
    "The algorithm is to start two pointers, slow and fast from head of linked list. We move slow one node at a time and fast two nodes at a time. If there is a loop, then they will definitely meet. This approach works because of the following facts.\n",
    "\n",
    "1) When slow pointer enters the loop, the fast pointer must be inside the loop. Let fast pointer be distance k from slow.\n",
    "\n",
    "2) Now if consider movements of slow and fast pointers, we can notice that distance between them (from slow to fast) increase by one after every iteration. After one iteration (of slow = next of slow and fast = next of next of fast), distance between slow and fast becomes k+1, after two iterations, k+2, and so on. When distance becomes n, they meet because they are moving in a cycle of length n."
   ]
  },
  {
   "cell_type": "markdown",
   "metadata": {},
   "source": [
    "![](https://media.geeksforgeeks.org/wp-content/uploads/Floyd-Proof.jpg)"
   ]
  },
  {
   "cell_type": "markdown",
   "metadata": {},
   "source": [
    "# Find length of loop in linked list"
   ]
  },
  {
   "cell_type": "markdown",
   "metadata": {},
   "source": [
    "Approach -> Use Floyd's cycle detection algorithm to find the common point and from there use one pointer as a reference point and traverse the loop with another pointer till they meet again and keep the count variable updated"
   ]
  },
  {
   "cell_type": "code",
   "execution_count": 1,
   "metadata": {},
   "outputs": [
    {
     "name": "stdout",
     "output_type": "stream",
     "text": [
      "4\n"
     ]
    }
   ],
   "source": [
    "class Node:\n",
    "    def __init__(self,data):\n",
    "        self.data=data\n",
    "        self.next=None\n",
    "\n",
    "class LinkedList:\n",
    "    def __init__(self):\n",
    "        self.head=None\n",
    "\n",
    "    def push(self,data):\n",
    "        temp=Node(data)\n",
    "        if self.head is None:\n",
    "            self.head=temp\n",
    "            return\n",
    "        temp.next=self.head\n",
    "        self.head=temp\n",
    "\n",
    "    def traverse(self):\n",
    "        if self.head is None:\n",
    "            print('Linked List is empty')\n",
    "            return\n",
    "        temp=self.head\n",
    "        while temp:\n",
    "            print(temp.data,end=\" \")\n",
    "            temp=temp.next\n",
    "        print('\\n')\n",
    "\n",
    "    # def deleteAtPosition(self,pos):\n",
    "    #     if self.head is None:\n",
    "    #         print('Linked List is empty')\n",
    "    #         return\n",
    "    #     if pos==0:\n",
    "    #         temp=self.head\n",
    "    #         self.head=temp.next\n",
    "    #         temp=None\n",
    "    #         return\n",
    "    #     count=0\n",
    "    #     temp=self.head\n",
    "    #     while temp:\n",
    "    #         if count==pos:\n",
    "    #             break\n",
    "    #         prev=temp\n",
    "    #         temp=temp.next\n",
    "    #         count+=1\n",
    "    #\n",
    "    #     if temp is None:\n",
    "    #         print('Positon not found!')\n",
    "    #         print('\\n')\n",
    "    #         return\n",
    "    #\n",
    "    #     prev.next=temp.next\n",
    "    #     temp=None\n",
    "\n",
    "    def findLengthOfLoop(self):\n",
    "        if self.head is None:\n",
    "            print('Linked List is empty')\n",
    "            return\n",
    "        fast=self.head\n",
    "        slow=self.head\n",
    "        while slow and fast and fast.next:\n",
    "            slow=slow.next\n",
    "            fast=fast.next.next\n",
    "            if slow==fast:\n",
    "                break\n",
    "        if slow is None or fast is None:\n",
    "            print('No Cycle')\n",
    "            return\n",
    "        slow=fast.next\n",
    "        count=1\n",
    "        while slow!=fast:\n",
    "            slow=slow.next\n",
    "            count+=1\n",
    "        return count\n",
    "\n",
    "\n",
    "if __name__ == '__main__':\n",
    "    llist=LinkedList()\n",
    "    first=Node(1)\n",
    "    second=Node(2)\n",
    "    third=Node(3)\n",
    "    fourth=Node(4)\n",
    "    fifth=Node(5)\n",
    "    llist.head=first\n",
    "    first.next=second\n",
    "    second.next=third\n",
    "    third.next=fourth\n",
    "    fourth.next=fifth\n",
    "    fifth.next=second\n",
    "    # llist.traverse()\n",
    "    # llist.deleteAtPosition(3)\n",
    "    # llist.traverse()\n",
    "    print(llist.findLengthOfLoop())\n"
   ]
  },
  {
   "cell_type": "markdown",
   "metadata": {},
   "source": [
    "Time Complexity O(n)"
   ]
  },
  {
   "cell_type": "markdown",
   "metadata": {},
   "source": [
    "# Function to check if a singly linked list is palindrome"
   ]
  },
  {
   "cell_type": "markdown",
   "metadata": {},
   "source": [
    "Approach 1-> Using Stack"
   ]
  },
  {
   "cell_type": "code",
   "execution_count": 2,
   "metadata": {},
   "outputs": [
    {
     "name": "stdout",
     "output_type": "stream",
     "text": [
      "False\n"
     ]
    }
   ],
   "source": [
    "class Node:\n",
    "\n",
    "    def __init__(self,data):\n",
    "        self.data=data\n",
    "        self.next=None\n",
    "\n",
    "class LinkedList:\n",
    "\n",
    "    def __init__(self):\n",
    "        self.head = None\n",
    "\n",
    "    def push(self,data):\n",
    "        temp=Node(data)\n",
    "        if self.head is None:\n",
    "            self.head =temp\n",
    "            return\n",
    "        temp.next=self.head\n",
    "        self.head =temp\n",
    "\n",
    "    def isPalindrome(self):\n",
    "        if self.head is None:\n",
    "            print('Linked List is empty')\n",
    "            return\n",
    "        stack=[]\n",
    "        temp=self.head\n",
    "        while temp:\n",
    "            stack.append(temp.data)\n",
    "            temp=temp.next\n",
    "        temp=self.head\n",
    "        while temp:\n",
    "            val=stack.pop()\n",
    "            if temp.data!=val:\n",
    "                return False\n",
    "            temp=temp.next\n",
    "        return True\n",
    "\n",
    "if __name__ == '__main__':\n",
    "    llist=LinkedList()\n",
    "    llist.push('R')\n",
    "    llist.push('A')\n",
    "    llist.push('D')\n",
    "    llist.push('A')\n",
    "    #llist.push('R')\n",
    "    print(llist.isPalindrome())\n"
   ]
  },
  {
   "cell_type": "markdown",
   "metadata": {},
   "source": [
    "Approach 2-> Dividing the Linked List into 2 parts and then reversing the second half and then matching both the lists"
   ]
  },
  {
   "cell_type": "code",
   "execution_count": 1,
   "metadata": {},
   "outputs": [
    {
     "name": "stdout",
     "output_type": "stream",
     "text": [
      "True\n"
     ]
    }
   ],
   "source": [
    "class Node:\n",
    "    def __init__(self,data):\n",
    "        self.data=data\n",
    "        self.next=None\n",
    "\n",
    "class LinkedList:\n",
    "    def __init__(self):\n",
    "        self.head=None\n",
    "\n",
    "    def push(self,data):\n",
    "        temp=Node(data)\n",
    "        if self.head is None:\n",
    "            self.head=temp\n",
    "            return\n",
    "        temp.next=self.head\n",
    "        self.head=temp\n",
    "\n",
    "    def reverse(self):\n",
    "        temp=self.secondHalf\n",
    "        prev=None\n",
    "        while temp:\n",
    "            next=temp.next\n",
    "            temp.next=prev\n",
    "            prev=temp\n",
    "            temp=next\n",
    "        self.secondHalf=prev\n",
    "\n",
    "    def compareLists(self,l1,l2):\n",
    "        while l1 and l2:\n",
    "            if l1.data == l2.data:\n",
    "                l1=l1.next\n",
    "                l2=l2.next\n",
    "            else:\n",
    "                return False\n",
    "        if l1 is None and l2 is None:\n",
    "            return True\n",
    "        return False\n",
    "\n",
    "\n",
    "    def isPalindrome(self):\n",
    "        #check for empty Linked List\n",
    "        if self.head is None:\n",
    "            print('Linked List is empty')\n",
    "            return\n",
    "        #find the middle of the linked list from where we need to reverse\n",
    "        #2 cases for even length and odd length\n",
    "\n",
    "        midNode=None\n",
    "        slow_ptr=self.head\n",
    "        slow_ptr_prev=None#in case of even length this node will be the end of the first half\n",
    "        #in case of odd after reverse we will have to make it point to the mid node\n",
    "        fast_ptr=self.head\n",
    "        res=True\n",
    "        if self.head is not None and self.head.next is not None:\n",
    "            while slow_ptr and fast_ptr and fast_ptr.next:\n",
    "                slow_ptr_prev=slow_ptr\n",
    "                slow_ptr=slow_ptr.next\n",
    "                fast_ptr=fast_ptr.next.next\n",
    "            if fast_ptr is not None:\n",
    "                midNode=slow_ptr#in case of odd we can loose this node as we will mark the slow_ptr_prev next as null\n",
    "                slow_ptr=slow_ptr.next\n",
    "\n",
    "            self.secondHalf=slow_ptr\n",
    "            slow_ptr_prev.next=None\n",
    "\n",
    "            self.reverse()\n",
    "\n",
    "            res=self.compareLists(self.head,self.secondHalf)\n",
    "\n",
    "            self.reverse()\n",
    "\n",
    "            if midNode:\n",
    "                slow_ptr_prev.next=midNode\n",
    "                midNode.next=self.secondHalf\n",
    "            else:\n",
    "                slow_ptr_prev.next=self.secondHalf\n",
    "\n",
    "        return res\n",
    "\n",
    "    def traverse(self):\n",
    "        if self.head is None:\n",
    "            print('Linked List is empty')\n",
    "            return\n",
    "        temp=self.head\n",
    "        while temp:\n",
    "            print(temp.data,end=\" \")\n",
    "            temp=temp.next\n",
    "\n",
    "\n",
    "if __name__ == '__main__':\n",
    "    llist=LinkedList()\n",
    "    llist.push('R')\n",
    "    llist.push('A')\n",
    "    llist.push('D')\n",
    "    llist.push('A')\n",
    "    llist.push('R')\n",
    "    #llist.traverse()\n",
    "    print(llist.isPalindrome())\n"
   ]
  },
  {
   "cell_type": "markdown",
   "metadata": {},
   "source": [
    "Approach 3 - Recursion"
   ]
  },
  {
   "cell_type": "code",
   "execution_count": 2,
   "metadata": {},
   "outputs": [
    {
     "name": "stdout",
     "output_type": "stream",
     "text": [
      "True\n"
     ]
    }
   ],
   "source": [
    "class Node:\n",
    "    def __init__(self,data):\n",
    "        self.data=data\n",
    "        self.next=None\n",
    "\n",
    "class LinkedList:\n",
    "    def __init__(self):\n",
    "        self.head=None\n",
    "\n",
    "    def push(self,data):\n",
    "        temp=Node(data)\n",
    "        if self.head is None:\n",
    "            self.head=temp\n",
    "            return\n",
    "        temp.next=self.head\n",
    "        self.head=temp\n",
    "\n",
    "    def traverse(self):\n",
    "        if self.head is None:\n",
    "            print('Linked List is empty')\n",
    "            return\n",
    "        temp=self.head\n",
    "        while temp:\n",
    "            print(temp.data,end=\" \")\n",
    "            temp=temp.next\n",
    "        print('\\n')\n",
    "\n",
    "    def isPalindromeUtil(self,front,back):\n",
    "        if back is None:\n",
    "            return\n",
    "        result=self.isPalindromeUtil(front,back.next)\n",
    "        if result is False:\n",
    "            return result\n",
    "        if front[0].data!=back.data:\n",
    "            return False\n",
    "        front[0]=front[0].next\n",
    "        return True\n",
    "\n",
    "    def findIfPalindrome(self):\n",
    "        if self.head is None:\n",
    "            print('Linked List is empty')\n",
    "            return\n",
    "        front=[self.head]\n",
    "        back=self.head\n",
    "        return self.isPalindromeUtil(front,back)\n",
    "\n",
    "\n",
    "if __name__ == '__main__':\n",
    "    llist=LinkedList()\n",
    "    llist.push('R')\n",
    "    llist.push('A')\n",
    "    llist.push('D')\n",
    "    llist.push('A')\n",
    "    llist.push('R')\n",
    "\n",
    "    # llist.traverse()\n",
    "    print(llist.findIfPalindrome())\n"
   ]
  },
  {
   "cell_type": "markdown",
   "metadata": {},
   "source": [
    "# Remove duplicates from a sorted linked list"
   ]
  },
  {
   "cell_type": "code",
   "execution_count": 3,
   "metadata": {},
   "outputs": [
    {
     "name": "stdout",
     "output_type": "stream",
     "text": [
      "11 11 11 21 43 43 60 \n",
      "11 21 43 60 \n"
     ]
    }
   ],
   "source": [
    "class Node:\n",
    "    def __init__(self,data):\n",
    "        self.data=data\n",
    "        self.next=None\n",
    "\n",
    "class LinkedList:\n",
    "    def __init__(self):\n",
    "        self.head=None\n",
    "\n",
    "    def push(self,data):\n",
    "        temp=Node(data)\n",
    "        if self.head is None:\n",
    "            self.head=temp\n",
    "            return\n",
    "        temp.next=self.head\n",
    "        self.head=temp\n",
    "\n",
    "    def traverse(self):\n",
    "        if self.head is None:\n",
    "            print('Linked List is empty')\n",
    "            return\n",
    "        temp=self.head\n",
    "        while temp:\n",
    "            print(temp.data,end=\" \")\n",
    "            temp=temp.next\n",
    "        print()\n",
    "\n",
    "    def removeDuplicates(self):\n",
    "        if self.head is None:\n",
    "            return\n",
    "        temp=self.head\n",
    "        afterTemp=temp.next\n",
    "        while afterTemp:\n",
    "            if temp.data==afterTemp.data:\n",
    "                temp.next=afterTemp.next\n",
    "                afterTemp=afterTemp.next\n",
    "            else:\n",
    "                temp=temp.next\n",
    "                afterTemp=afterTemp.next\n",
    "\n",
    "if __name__ == '__main__':\n",
    "    llist=LinkedList()\n",
    "    llist.push(60)\n",
    "    llist.push(43)\n",
    "    llist.push(43)\n",
    "    llist.push(21)\n",
    "    llist.push(11)\n",
    "    llist.push(11)\n",
    "    llist.push(11)\n",
    "    llist.traverse()\n",
    "    llist.removeDuplicates()\n",
    "    llist.traverse()"
   ]
  },
  {
   "cell_type": "markdown",
   "metadata": {},
   "source": [
    "Time Complexity O(n) where n is the number of nodes"
   ]
  },
  {
   "cell_type": "markdown",
   "metadata": {},
   "source": [
    "Approach 2-> Recursive Solution"
   ]
  },
  {
   "cell_type": "code",
   "execution_count": 4,
   "metadata": {},
   "outputs": [
    {
     "name": "stdout",
     "output_type": "stream",
     "text": [
      "11 11 11 13 13 20 \n",
      "11 13 20 \n"
     ]
    }
   ],
   "source": [
    "class Node:\n",
    "    def __init__(self,data):\n",
    "        self.data=data\n",
    "        self.next=None\n",
    "class LinkedList:\n",
    "    def __init__(self):\n",
    "        self.head=None\n",
    "\n",
    "    def push(self,data):\n",
    "        temp=Node(data)\n",
    "        if self.head is None:\n",
    "            self.head=temp\n",
    "            return\n",
    "        temp.next=self.head\n",
    "        self.head=temp\n",
    "\n",
    "    def removeDuplicatesRec(self,temp):\n",
    "        if temp is None or temp.next is None:\n",
    "            return\n",
    "        if temp.data == temp.next.data:\n",
    "            toFree=temp.next\n",
    "            temp.next=temp.next.next\n",
    "            toFree=None\n",
    "            self.removeDuplicatesRec(temp)\n",
    "        else:\n",
    "            self.removeDuplicatesRec(temp.next)\n",
    "\n",
    "    def removeDuplicates(self):\n",
    "        if self.head is None:\n",
    "            print('Linked List is empty')\n",
    "            return\n",
    "        temp=self.head\n",
    "        while temp and temp.next:\n",
    "            if temp.data == temp.next.data:\n",
    "                freeNode=temp.next\n",
    "                temp.next=temp.next.next\n",
    "                freeNode=None\n",
    "            else:\n",
    "                temp=temp.next\n",
    "    def traverse(self):\n",
    "        if self.head is None:\n",
    "            print('Linked List is empty')\n",
    "            return\n",
    "        temp=self.head\n",
    "        while temp:\n",
    "            print(temp.data,end=\" \")\n",
    "            temp=temp.next\n",
    "        print()\n",
    "\n",
    "if __name__ == '__main__':\n",
    "    llist=LinkedList()\n",
    "    llist.push(20)\n",
    "    llist.push(13)\n",
    "    llist.push(13)\n",
    "    llist.push(11)\n",
    "    llist.push(11)\n",
    "    llist.push(11)\n",
    "    llist.traverse()\n",
    "    llist.removeDuplicatesRec(llist.head)\n",
    "    llist.traverse()\n"
   ]
  },
  {
   "cell_type": "markdown",
   "metadata": {},
   "source": [
    "# Remove duplicates from an unsorted linked list"
   ]
  },
  {
   "cell_type": "markdown",
   "metadata": {},
   "source": [
    "Approach 1-> Using Sorting. Sort the linked list and apply the algorithm to remove duplicates from the sorted list"
   ]
  },
  {
   "cell_type": "markdown",
   "metadata": {},
   "source": [
    "Approach 2-> Using Hashing."
   ]
  },
  {
   "cell_type": "code",
   "execution_count": 5,
   "metadata": {},
   "outputs": [
    {
     "name": "stdout",
     "output_type": "stream",
     "text": [
      "10 12 11 11 12 11 10 \n",
      "10 12 11 \n"
     ]
    }
   ],
   "source": [
    "class Node:\n",
    "    def __init__(self,data):\n",
    "        self.data=data\n",
    "        self.next=None\n",
    "\n",
    "class LinkedList:\n",
    "    def __init__(self):\n",
    "        self.head=None\n",
    "\n",
    "    def push(self,data):\n",
    "        temp=Node(data)\n",
    "        if self.head is None:\n",
    "            self.head=temp\n",
    "            return\n",
    "        temp.next=self.head\n",
    "        self.head=temp\n",
    "\n",
    "    def removeDuplicates(self):\n",
    "        if self.head is None:\n",
    "            return\n",
    "        s=set()\n",
    "        prev=None\n",
    "        temp=self.head\n",
    "        while temp:\n",
    "            if temp.data in s:\n",
    "                prev.next=temp.next\n",
    "                # toFree=temp\n",
    "                temp=temp.next\n",
    "                # toFree=None\n",
    "            else:\n",
    "                s.add(temp.data)\n",
    "                prev=temp\n",
    "                temp=temp.next\n",
    "\n",
    "    def traverse(self):\n",
    "        if self.head is None:\n",
    "            print('Linked List is empty')\n",
    "            return\n",
    "        temp=self.head\n",
    "        while temp:\n",
    "            print(temp.data,end=\" \")\n",
    "            temp=temp.next\n",
    "        print()\n",
    "\n",
    "if __name__ == '__main__':\n",
    "    llist=LinkedList()\n",
    "    llist.push(10)\n",
    "    llist.push(11)\n",
    "    llist.push(12)\n",
    "    llist.push(11)\n",
    "    llist.push(11)\n",
    "    llist.push(12)\n",
    "    llist.push(10)\n",
    "    llist.traverse()\n",
    "    llist.removeDuplicates()\n",
    "    llist.traverse()\n"
   ]
  },
  {
   "cell_type": "markdown",
   "metadata": {},
   "source": [
    "Time Complexity - O(n) and Space Complexity O(n)"
   ]
  },
  {
   "cell_type": "markdown",
   "metadata": {},
   "source": [
    "# Swap nodes in a linked list without swapping data"
   ]
  },
  {
   "cell_type": "markdown",
   "metadata": {},
   "source": [
    "<pre>\n",
    "Cases to be considered-\n",
    "\n",
    "1) List is empty\n",
    "2) x and y both are same\n",
    "3) Either of the two is not present\n",
    "4) If x or y is head\n",
    "5) Change the previous pointers\n",
    "6) Change the next pointers \n",
    "</pre>"
   ]
  },
  {
   "cell_type": "code",
   "execution_count": 1,
   "metadata": {},
   "outputs": [
    {
     "name": "stdout",
     "output_type": "stream",
     "text": [
      "10 15 12 13 20 14 \n",
      "10 15 20 13 12 14 \n"
     ]
    }
   ],
   "source": [
    "class Node:\n",
    "    def __init__(self,data):\n",
    "        self.data=data\n",
    "        self.next=None\n",
    "\n",
    "class LinkedList:\n",
    "    def __init__(self):\n",
    "        self.head=None\n",
    "\n",
    "    def push(self,data):\n",
    "        temp=Node(data)\n",
    "        if self.head is None:\n",
    "            self.head=temp\n",
    "            return\n",
    "        temp.next=self.head\n",
    "        self.head=temp\n",
    "\n",
    "    def swapNodes(self,x,y):\n",
    "        # LinkedList is empty\n",
    "        if self.head is None:\n",
    "            return\n",
    "\n",
    "        # x and y are same\n",
    "        if x==y:\n",
    "            return\n",
    "\n",
    "        currX=self.head\n",
    "        prevX=None\n",
    "        currY=self.head\n",
    "        prevY=None\n",
    "\n",
    "        while currX and currX.data!=x:\n",
    "            prevX=currX\n",
    "            currX=currX.next\n",
    "\n",
    "        while currY and currY.data!=y:\n",
    "            prevY=currY\n",
    "            currY=currY.next\n",
    "\n",
    "        # x or y is not present\n",
    "        if currX is None or currY is None:\n",
    "            return\n",
    "\n",
    "        if prevX is None:\n",
    "            # x is head\n",
    "            self.head=currY\n",
    "        else:\n",
    "            # change previous pointers\n",
    "            prevX.next=currY\n",
    "\n",
    "        if prevY is None:\n",
    "            # y is head\n",
    "            self.head=currX\n",
    "        else:\n",
    "            # change previous pointers\n",
    "            prevY.next=currX\n",
    "\n",
    "        # change next pointers\n",
    "        temp=currX.next\n",
    "        currX.next=currY.next\n",
    "        currY.next=temp\n",
    "\n",
    "\n",
    "    def traverse(self):\n",
    "        if self.head is None:\n",
    "            return\n",
    "        temp=self.head\n",
    "        while temp:\n",
    "            print(temp.data,end=\" \")\n",
    "            temp=temp.next\n",
    "        print()\n",
    "\n",
    "if __name__ == '__main__':\n",
    "    llist=LinkedList()\n",
    "    llist.push(14)\n",
    "    llist.push(20)\n",
    "    llist.push(13)\n",
    "    llist.push(12)\n",
    "    llist.push(15)\n",
    "    llist.push(10)\n",
    "    llist.traverse()\n",
    "    llist.swapNodes(12,20)\n",
    "    # llist.swapNodes(10,14)\n",
    "    llist.traverse()\n"
   ]
  },
  {
   "cell_type": "markdown",
   "metadata": {},
   "source": [
    "Time Complexity - O(n)"
   ]
  },
  {
   "cell_type": "markdown",
   "metadata": {},
   "source": [
    "# Pairwise swap elements of a given linked list"
   ]
  },
  {
   "cell_type": "markdown",
   "metadata": {},
   "source": [
    "Approach 1-> By changing data;traverse the linkedlist and while traversing update the data "
   ]
  },
  {
   "cell_type": "markdown",
   "metadata": {},
   "source": [
    "Approach 2-> By changing the links || Recursive Solution"
   ]
  },
  {
   "cell_type": "code",
   "execution_count": 2,
   "metadata": {},
   "outputs": [
    {
     "name": "stdout",
     "output_type": "stream",
     "text": [
      "1 2 3 4 5 6 \n",
      "2 1 4 3 6 5 \n"
     ]
    }
   ],
   "source": [
    "class Node:\n",
    "    def __init__(self,data):\n",
    "        self.data=data\n",
    "        self.next=None\n",
    "\n",
    "class LinkedList:\n",
    "    def __init__(self):\n",
    "        self.head=None\n",
    "\n",
    "    def push(self,data):\n",
    "        temp=Node(data)\n",
    "        if self.head is None:\n",
    "            self.head=temp\n",
    "            return\n",
    "        temp.next=self.head\n",
    "        self.head=temp\n",
    "\n",
    "    def pairwiseSwap(self):\n",
    "        self.head=self.pairwiseSwapUtil(self.head)\n",
    "\n",
    "    def pairwiseSwapUtil(self,node):\n",
    "        if node is None or node.next is None:\n",
    "            return node\n",
    "        remaining=node.next.next\n",
    "        newHead=node.next\n",
    "        node.next.next=node\n",
    "        node.next=self.pairwiseSwapUtil(remaining)\n",
    "        return newHead\n",
    "\n",
    "    def traverse(self):\n",
    "        if self.head is None:\n",
    "            return\n",
    "        temp=self.head\n",
    "        while temp:\n",
    "            print(temp.data,end=\" \")\n",
    "            temp=temp.next\n",
    "        print()\n",
    "\n",
    "if __name__ == '__main__':\n",
    "    llist=LinkedList()\n",
    "    llist.push(6)\n",
    "    llist.push(5)\n",
    "    llist.push(4)\n",
    "    llist.push(3)\n",
    "    llist.push(2)\n",
    "    llist.push(1)\n",
    "    llist.traverse()\n",
    "    llist.pairwiseSwap()\n",
    "    llist.traverse()\n"
   ]
  },
  {
   "cell_type": "markdown",
   "metadata": {},
   "source": [
    "# Move last element to front of a given Linked List"
   ]
  },
  {
   "cell_type": "code",
   "execution_count": 3,
   "metadata": {},
   "outputs": [
    {
     "name": "stdout",
     "output_type": "stream",
     "text": [
      "1 2 3 4 5 \n",
      "5 1 2 3 4 \n"
     ]
    }
   ],
   "source": [
    "class Node:\n",
    "    def __init__(self,data):\n",
    "        self.data=data\n",
    "        self.next=None\n",
    "\n",
    "class LinkedList:\n",
    "    def __init__(self):\n",
    "        self.head=None\n",
    "\n",
    "    def push(self,data):\n",
    "        temp=Node(data)\n",
    "        if self.head is None:\n",
    "            self.head=temp\n",
    "            return\n",
    "        temp.next=self.head\n",
    "        self.head=temp\n",
    "\n",
    "    def moveLastToFirst(self):\n",
    "        if self.head is None:\n",
    "            return\n",
    "\n",
    "        temp=self.head\n",
    "        prev=None\n",
    "        while temp.next:\n",
    "            prev=temp\n",
    "            temp=temp.next\n",
    "\n",
    "        temp.next=self.head\n",
    "        prev.next=None\n",
    "        self.head=temp\n",
    "\n",
    "    def traverse(self):\n",
    "        if self.head is None:\n",
    "            return\n",
    "        temp=self.head\n",
    "        while temp:\n",
    "            print(temp.data,end=\" \")\n",
    "            temp=temp.next\n",
    "        print()\n",
    "\n",
    "if __name__ == '__main__':\n",
    "    llist=LinkedList()\n",
    "    llist.push(5)\n",
    "    llist.push(4)\n",
    "    llist.push(3)\n",
    "    llist.push(2)\n",
    "    llist.push(1)\n",
    "    llist.traverse()\n",
    "    llist.moveLastToFirst()\n",
    "    llist.traverse()\n"
   ]
  },
  {
   "cell_type": "markdown",
   "metadata": {},
   "source": [
    "Time Complexity O(n)"
   ]
  },
  {
   "cell_type": "markdown",
   "metadata": {},
   "source": [
    "# Intersection of two Sorted Linked Lists"
   ]
  },
  {
   "cell_type": "markdown",
   "metadata": {},
   "source": [
    "Approach 1-> Using Hashing"
   ]
  },
  {
   "cell_type": "code",
   "execution_count": 1,
   "metadata": {},
   "outputs": [
    {
     "name": "stdout",
     "output_type": "stream",
     "text": [
      "2 4 6 \n"
     ]
    }
   ],
   "source": [
    "class Node:\n",
    "    def __init__(self,data):\n",
    "        self.data=data\n",
    "        self.next=None\n",
    "\n",
    "class LinkedList:\n",
    "    def __init__(self):\n",
    "        self.head = None\n",
    "        self.tail=None\n",
    "\n",
    "    def addElement(self,data):\n",
    "        temp=Node(data)\n",
    "        if self.head is None:\n",
    "            self.head=temp\n",
    "            self.tail=temp\n",
    "            return\n",
    "        self.tail.next=temp\n",
    "        self.tail=temp\n",
    "\n",
    "    def traverse(self):\n",
    "        if self.head is None:\n",
    "            print('Linked List is empty')\n",
    "            return\n",
    "        temp=self.head\n",
    "        while temp:\n",
    "            print(temp.data,end=\" \")\n",
    "            temp=temp.next\n",
    "        print()\n",
    "\n",
    "    def intersection(self,list2):\n",
    "        list3=LinkedList()\n",
    "        if self.head is None and list2.head is None:\n",
    "            return list3\n",
    "        if self.head is None:\n",
    "            return list2\n",
    "        elif list2.head is None:\n",
    "            return self\n",
    "        s=set()\n",
    "        temp=self.head\n",
    "        while temp:\n",
    "            s.add(temp.data)\n",
    "            temp=temp.next\n",
    "        temp=list2.head\n",
    "        while temp:\n",
    "            if temp.data in s:\n",
    "                list3.addElement(temp.data)\n",
    "            temp=temp.next\n",
    "        return list3\n",
    "\n",
    "if __name__ == '__main__':\n",
    "    list1=LinkedList()\n",
    "    list1.addElement(1)\n",
    "    list1.addElement(2)\n",
    "    list1.addElement(3)\n",
    "    list1.addElement(4)\n",
    "    list1.addElement(6)\n",
    "    # list1.traverse()\n",
    "    list2=LinkedList()\n",
    "    list2.addElement(2)\n",
    "    list2.addElement(4)\n",
    "    list2.addElement(6)\n",
    "    list2.addElement(8)\n",
    "    # list2.traverse()\n",
    "    result=list1.intersection(list2)\n",
    "    result.traverse()\n"
   ]
  },
  {
   "cell_type": "markdown",
   "metadata": {},
   "source": [
    "Time Complexity O(n) and Space Complexity O(n)"
   ]
  },
  {
   "cell_type": "markdown",
   "metadata": {},
   "source": [
    "Approach 2-> Since the list is sorted we can maintain 2 pointers and move the pointers in sorted fashion"
   ]
  },
  {
   "cell_type": "code",
   "execution_count": 2,
   "metadata": {},
   "outputs": [
    {
     "name": "stdout",
     "output_type": "stream",
     "text": [
      "2 4 6 \n"
     ]
    }
   ],
   "source": [
    "class Node:\n",
    "    def __init__(self,data):\n",
    "        self.data=data\n",
    "        self.next=None\n",
    "\n",
    "class LinkedList:\n",
    "    def __init__(self):\n",
    "        self.head = None\n",
    "        self.tail=None\n",
    "\n",
    "    def addElement(self,data):\n",
    "        temp=Node(data)\n",
    "        if self.head is None:\n",
    "            self.head=temp\n",
    "            self.tail=temp\n",
    "            return\n",
    "        self.tail.next=temp\n",
    "        self.tail=temp\n",
    "\n",
    "    def traverse(self):\n",
    "        if self.head is None:\n",
    "            print('Linked List is empty')\n",
    "            return\n",
    "        temp=self.head\n",
    "        while temp:\n",
    "            print(temp.data,end=\" \")\n",
    "            temp=temp.next\n",
    "        print()\n",
    "\n",
    "    def intersection(self,list2):\n",
    "        list3=LinkedList()\n",
    "        a=self.head\n",
    "        b=list2.head\n",
    "        while a and b:\n",
    "            if a.data==b.data:\n",
    "                list3.addElement(a.data)\n",
    "                a=a.next\n",
    "                b=b.next\n",
    "            elif a.data<b.data:\n",
    "                a=a.next\n",
    "            else:\n",
    "                b=b.next\n",
    "        return list3\n",
    "\n",
    "if __name__ == '__main__':\n",
    "    list1=LinkedList()\n",
    "    list1.addElement(1)\n",
    "    list1.addElement(2)\n",
    "    list1.addElement(3)\n",
    "    list1.addElement(4)\n",
    "    list1.addElement(6)\n",
    "    # list1.traverse()\n",
    "    list2=LinkedList()\n",
    "    list2.addElement(2)\n",
    "    list2.addElement(4)\n",
    "    list2.addElement(6)\n",
    "    list2.addElement(8)\n",
    "    # list2.traverse()\n",
    "    result=list1.intersection(list2)\n",
    "    result.traverse()\n"
   ]
  },
  {
   "cell_type": "markdown",
   "metadata": {},
   "source": [
    "Time Complexity O(n) and Space Complexity O(1)"
   ]
  },
  {
   "cell_type": "markdown",
   "metadata": {},
   "source": [
    "Approach 3-> Recursive"
   ]
  },
  {
   "cell_type": "code",
   "execution_count": 3,
   "metadata": {},
   "outputs": [
    {
     "name": "stdout",
     "output_type": "stream",
     "text": [
      "2 4 6 \n"
     ]
    }
   ],
   "source": [
    "class Node:\n",
    "    def __init__(self,data):\n",
    "        self.data=data\n",
    "        self.next=None\n",
    "\n",
    "class LinkedList:\n",
    "    def __init__(self):\n",
    "        self.head = None\n",
    "        self.tail=None\n",
    "\n",
    "    def addElement(self,data):\n",
    "        temp=Node(data)\n",
    "        if self.head is None:\n",
    "            self.head=temp\n",
    "            self.tail=temp\n",
    "            return\n",
    "        self.tail.next=temp\n",
    "        self.tail=temp\n",
    "\n",
    "    def traverse(self):\n",
    "        if self.head is None:\n",
    "            print('Linked List is empty')\n",
    "            return\n",
    "        temp=self.head\n",
    "        while temp:\n",
    "            print(temp.data,end=\" \")\n",
    "            temp=temp.next\n",
    "        print()\n",
    "\n",
    "    def intersectionUtil(self,a,b):\n",
    "        if a is None or b is None:\n",
    "            return None\n",
    "        if a.data<b.data:\n",
    "            return self.intersectionUtil(a.next,b)\n",
    "        elif a.data>b.data:\n",
    "            return self.intersectionUtil(a,b.next)\n",
    "        temp=Node(a.data)\n",
    "        temp.next=self.intersectionUtil(a.next,b.next)\n",
    "        return temp\n",
    "\n",
    "\n",
    "    def intersection(self,list2):\n",
    "        list3=LinkedList()\n",
    "        list3.head=self.intersectionUtil(self.head,list2.head)\n",
    "        return list3\n",
    "\n",
    "if __name__ == '__main__':\n",
    "    list1=LinkedList()\n",
    "    list1.addElement(1)\n",
    "    list1.addElement(2)\n",
    "    list1.addElement(3)\n",
    "    list1.addElement(4)\n",
    "    list1.addElement(6)\n",
    "    # list1.traverse()\n",
    "    list2=LinkedList()\n",
    "    list2.addElement(2)\n",
    "    list2.addElement(4)\n",
    "    list2.addElement(6)\n",
    "    list2.addElement(8)\n",
    "    # list2.traverse()\n",
    "    result=list1.intersection(list2)\n",
    "    result.traverse()\n"
   ]
  },
  {
   "cell_type": "markdown",
   "metadata": {},
   "source": [
    "# Write a function to get the intersection point of two Linked Lists"
   ]
  },
  {
   "cell_type": "markdown",
   "metadata": {},
   "source": [
    "Approach 1-> Hashing (Change in the structure of the node)"
   ]
  },
  {
   "cell_type": "code",
   "execution_count": 4,
   "metadata": {},
   "outputs": [
    {
     "name": "stdout",
     "output_type": "stream",
     "text": [
      "15\n"
     ]
    }
   ],
   "source": [
    "class Node:\n",
    "    def __init__(self,data):\n",
    "        self.data=data\n",
    "        self.next=None\n",
    "        self.visited=False\n",
    "\n",
    "class LinkedList:\n",
    "    def __init__(self):\n",
    "        self.head=None\n",
    "        self.tail=None\n",
    "\n",
    "    def addElement(self,data):\n",
    "        temp=Node(data)\n",
    "        if self.head is None:\n",
    "            self.head=temp\n",
    "            self.tail=temp\n",
    "            return\n",
    "        self.tail.next=temp\n",
    "        self.tail=temp\n",
    "\n",
    "    def traverse(self):\n",
    "        if self.head is None:\n",
    "            print('Linked List is empty')\n",
    "            return\n",
    "        temp=self.head\n",
    "        while temp:\n",
    "            print(temp.data,end=\" \")\n",
    "            temp=temp.next\n",
    "        print()\n",
    "\n",
    "    def findIntersectionPoint(self,list2):\n",
    "        if self.head is None:\n",
    "            return None\n",
    "        # hash={}\n",
    "        temp=self.head\n",
    "        while temp:\n",
    "            # hash[temp]=True\n",
    "            temp.visited=True\n",
    "            temp=temp.next\n",
    "        temp=list2.head\n",
    "        while temp:\n",
    "            if temp.visited:\n",
    "                return temp.data\n",
    "            temp=temp.next\n",
    "\n",
    "if __name__ == '__main__':\n",
    "    list1=LinkedList()\n",
    "    list1.addElement(3)\n",
    "    list1.addElement(6)\n",
    "    list1.addElement(9)\n",
    "    list1.addElement(15)\n",
    "    list1.addElement(30)\n",
    "    list2=LinkedList()\n",
    "    list2.addElement(10)\n",
    "    second=list1.head.next.next.next\n",
    "    list2.head.next=second\n",
    "    # list1.traverse()\n",
    "    # list2.traverse()\n",
    "    intersectionPoint=list1.findIntersectionPoint(list2)\n",
    "    print(intersectionPoint)\n"
   ]
  },
  {
   "cell_type": "markdown",
   "metadata": {},
   "source": [
    "Time Complexity O(m+n) and Space Complexity O(1)"
   ]
  },
  {
   "cell_type": "markdown",
   "metadata": {},
   "source": [
    "Approach 2-> Hashing with addtional space "
   ]
  },
  {
   "cell_type": "code",
   "execution_count": 5,
   "metadata": {},
   "outputs": [
    {
     "name": "stdout",
     "output_type": "stream",
     "text": [
      "15\n"
     ]
    }
   ],
   "source": [
    "class Node:\n",
    "    def __init__(self,data):\n",
    "        self.data=data\n",
    "        self.next=None\n",
    "\n",
    "class LinkedList:\n",
    "    def __init__(self):\n",
    "        self.head=None\n",
    "        self.tail=None\n",
    "\n",
    "    def addElement(self,data):\n",
    "        temp=Node(data)\n",
    "        if self.head is None:\n",
    "            self.head=temp\n",
    "            self.tail=temp\n",
    "            return\n",
    "        self.tail.next=temp\n",
    "        self.tail=temp\n",
    "\n",
    "    def traverse(self):\n",
    "        if self.head is None:\n",
    "            print('Linked List is empty')\n",
    "            return\n",
    "        temp=self.head\n",
    "        while temp:\n",
    "            print(temp.data,end=\" \")\n",
    "            temp=temp.next\n",
    "        print()\n",
    "\n",
    "    def findIntersectionPoint(self,list2):\n",
    "        if self.head is None:\n",
    "            return None\n",
    "        hash={}\n",
    "        temp=self.head\n",
    "        while temp:\n",
    "            hash[temp]=True\n",
    "            temp=temp.next\n",
    "        temp=list2.head\n",
    "        while temp:\n",
    "            if temp in hash:\n",
    "                return temp.data\n",
    "            temp=temp.next\n",
    "\n",
    "if __name__ == '__main__':\n",
    "    list1=LinkedList()\n",
    "    list1.addElement(3)\n",
    "    list1.addElement(6)\n",
    "    list1.addElement(9)\n",
    "    list1.addElement(15)\n",
    "    list1.addElement(30)\n",
    "    list2=LinkedList()\n",
    "    list2.addElement(10)\n",
    "    second=list1.head.next.next.next\n",
    "    list2.head.next=second\n",
    "    # list1.traverse()\n",
    "    # list2.traverse()\n",
    "    intersectionPoint=list1.findIntersectionPoint(list2)\n",
    "    print(intersectionPoint)\n"
   ]
  },
  {
   "cell_type": "markdown",
   "metadata": {},
   "source": [
    "Time Complexity O(n+m) and Space Complexity O(n)"
   ]
  },
  {
   "cell_type": "markdown",
   "metadata": {},
   "source": [
    "<pre>\n",
    "Approach 3->\n",
    "\n",
    "Get count of the nodes in the first list, let count be c1.\n",
    "Get count of the nodes in the second list, let count be c2.\n",
    "Get the difference of counts d = abs(c1 – c2)\n",
    "Now traverse the bigger list from the first node till d nodes so that from here onwards both the lists have equal no of nodes\n",
    "Then we can traverse both the lists in parallel till we come across a common node. (Note that getting a common node is done by comparing the address of the nodes)\n",
    "</pre>"
   ]
  },
  {
   "cell_type": "code",
   "execution_count": 6,
   "metadata": {},
   "outputs": [
    {
     "name": "stdout",
     "output_type": "stream",
     "text": [
      "15\n"
     ]
    }
   ],
   "source": [
    "class Node:\n",
    "    def __init__(self,data):\n",
    "        self.data=data\n",
    "        self.next=None\n",
    "\n",
    "class LinkedList:\n",
    "    def __init__(self):\n",
    "        self.head=None\n",
    "        self.tail=None\n",
    "\n",
    "    def addElement(self,data):\n",
    "        temp=Node(data)\n",
    "        if self.head is None:\n",
    "            self.head=temp\n",
    "            self.tail=temp\n",
    "            return\n",
    "        self.tail.next=temp\n",
    "        self.tail=temp\n",
    "\n",
    "    def traverse(self):\n",
    "        if self.head is None:\n",
    "            print('Linked List is empty')\n",
    "            return\n",
    "        temp=self.head\n",
    "        while temp:\n",
    "            print(temp.data,end=\" \")\n",
    "            temp=temp.next\n",
    "        print()\n",
    "\n",
    "    def getCount(self):\n",
    "        temp=self.head\n",
    "        count=0\n",
    "        while temp:\n",
    "            count+=1\n",
    "            temp=temp.next\n",
    "        return count\n",
    "\n",
    "\n",
    "    def findIntersectionPoint(self,list2):\n",
    "        if self.head is None or list2.head is None:\n",
    "            return None\n",
    "        c1=self.getCount()\n",
    "        c2=list2.getCount()\n",
    "        if c1>c2:\n",
    "            return self.getIntersectionUtil(self.head,list2.head,abs(c1-c2))\n",
    "        return self.getIntersectionUtil(list2.head,self.head,abs(c1-c2))\n",
    "\n",
    "    def getIntersectionUtil(self,head1,head2,d):\n",
    "        current1=head1\n",
    "        current2=head2\n",
    "        while d:\n",
    "            d-=1\n",
    "            current1=current1.next\n",
    "\n",
    "        # print(current1.data,current2.data)\n",
    "        while current1 and current2:\n",
    "            if current1==current2:\n",
    "                return current1.data\n",
    "            current1=current1.next\n",
    "            current2=current2.next\n",
    "        return None\n",
    "\n",
    "if __name__ == '__main__':\n",
    "    list1=LinkedList()\n",
    "    list1.addElement(3)\n",
    "    list1.addElement(6)\n",
    "    list1.addElement(9)\n",
    "    list1.addElement(15)\n",
    "    list1.addElement(30)\n",
    "    list2=LinkedList()\n",
    "    list2.addElement(10)\n",
    "    second=list1.head.next.next.next\n",
    "    list2.head.next=second\n",
    "    # list1.traverse()\n",
    "    # list2.traverse()\n",
    "    intersectionPoint=list1.findIntersectionPoint(list2)\n",
    "    print(intersectionPoint)\n"
   ]
  },
  {
   "cell_type": "markdown",
   "metadata": {},
   "source": [
    "Time Complexity O(m+n) and Space Compelxity O(1)"
   ]
  },
  {
   "cell_type": "markdown",
   "metadata": {},
   "source": [
    "<pre>\n",
    "Approach 4-> Using 2 pointers\n",
    "\n",
    "Using Two pointers : \n",
    "\n",
    "1) Initialize two pointers ptr1 and ptr2  at the head1 and  head2.\n",
    "2) Traverse through the lists,one node at a time.\n",
    "3) When ptr1 reaches the end of a list, then redirect it to the head2.\n",
    "similarly when ptr2 reaches the end of a list, redirect it the head1.\n",
    "4) Once both of them go through reassigning, they will be equidistant from \n",
    " the collision point\n",
    "5) If at any node ptr1 meets ptr2, then it is the intersection node.\n",
    "6) After second iteration if there is no intersection node it returns NULL.\n",
    "\n",
    "</pre>"
   ]
  },
  {
   "cell_type": "code",
   "execution_count": 8,
   "metadata": {},
   "outputs": [
    {
     "name": "stdout",
     "output_type": "stream",
     "text": [
      "15\n"
     ]
    }
   ],
   "source": [
    "class Node:\n",
    "    def __init__(self,data):\n",
    "        self.data=data\n",
    "        self.next=None\n",
    "\n",
    "class LinkedList:\n",
    "    def __init__(self):\n",
    "        self.head=None\n",
    "        self.tail=None\n",
    "\n",
    "    def addElement(self,data):\n",
    "        temp=Node(data)\n",
    "        if self.head is None:\n",
    "            self.head=temp\n",
    "            self.tail=temp\n",
    "            return\n",
    "        self.tail.next=temp\n",
    "        self.tail=temp\n",
    "\n",
    "    def traverse(self):\n",
    "        if self.head is None:\n",
    "            print('Linked List is empty')\n",
    "            return\n",
    "        temp=self.head\n",
    "        while temp:\n",
    "            print(temp.data,end=\" \")\n",
    "            temp=temp.next\n",
    "        print()\n",
    "\n",
    "    def findIntersectionPoint(self,list2):\n",
    "        if self.head is None or list2.head is None:\n",
    "            return None\n",
    "        head1=self.head\n",
    "        head2=list2.head\n",
    "        while True:\n",
    "            if head1==head2:\n",
    "                return head1.data\n",
    "\n",
    "            head1=head1.next\n",
    "            head2=head2.next\n",
    "\n",
    "            if head1 is None:\n",
    "                head1=list2.head\n",
    "\n",
    "            if head2 is None:\n",
    "                head2=self.head\n",
    "\n",
    "\n",
    "if __name__ == '__main__':\n",
    "    list1=LinkedList()\n",
    "    list1.addElement(3)\n",
    "    list1.addElement(6)\n",
    "    list1.addElement(9)\n",
    "    list1.addElement(15)\n",
    "    list1.addElement(30)\n",
    "    list2=LinkedList()\n",
    "    list2.addElement(10)\n",
    "    second=list1.head.next.next.next\n",
    "    list2.head.next=second\n",
    "    # list1.traverse()\n",
    "    # list2.traverse()\n",
    "    intersectionPoint=list1.findIntersectionPoint(list2)\n",
    "    print(intersectionPoint)\n"
   ]
  },
  {
   "cell_type": "code",
   "execution_count": null,
   "metadata": {},
   "outputs": [],
   "source": []
  }
 ],
 "metadata": {
  "kernelspec": {
   "display_name": "Python 3",
   "language": "python",
   "name": "python3"
  },
  "language_info": {
   "codemirror_mode": {
    "name": "ipython",
    "version": 3
   },
   "file_extension": ".py",
   "mimetype": "text/x-python",
   "name": "python",
   "nbconvert_exporter": "python",
   "pygments_lexer": "ipython3",
   "version": "3.7.6"
  }
 },
 "nbformat": 4,
 "nbformat_minor": 4
}
